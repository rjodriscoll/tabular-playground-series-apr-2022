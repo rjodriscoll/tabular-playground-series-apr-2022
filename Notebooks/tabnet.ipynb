{
 "cells": [
  {
   "cell_type": "code",
   "execution_count": 1,
   "metadata": {},
   "outputs": [
    {
     "name": "stderr",
     "output_type": "stream",
     "text": [
      "g:\\My Drive\\Kaggle\\tabular-playground-series-apr-2022\\tab22\\lib\\site-packages\\tqdm\\auto.py:22: TqdmWarning: IProgress not found. Please update jupyter and ipywidgets. See https://ipywidgets.readthedocs.io/en/stable/user_install.html\n",
      "  from .autonotebook import tqdm as notebook_tqdm\n"
     ]
    },
    {
     "data": {
      "text/plain": [
       "'1.10.1+cu113'"
      ]
     },
     "execution_count": 1,
     "metadata": {},
     "output_type": "execute_result"
    }
   ],
   "source": [
    "import torch\n",
    "import pandas as pd\n",
    "import numpy as np\n",
    "from sklearn.preprocessing import MinMaxScaler\n",
    "from sklearn.model_selection import train_test_split\n",
    "\n",
    "torch.__version__"
   ]
  },
  {
   "cell_type": "code",
   "execution_count": 2,
   "metadata": {},
   "outputs": [
    {
     "name": "stdout",
     "output_type": "stream",
     "text": [
      "nvcc: NVIDIA (R) Cuda compiler driver\n",
      "Copyright (c) 2005-2021 NVIDIA Corporation\n",
      "Built on Thu_Nov_18_09:52:33_Pacific_Standard_Time_2021\n",
      "Cuda compilation tools, release 11.5, V11.5.119\n",
      "Build cuda_11.5.r11.5/compiler.30672275_0\n"
     ]
    }
   ],
   "source": [
    "!nvcc --version"
   ]
  },
  {
   "cell_type": "code",
   "execution_count": 3,
   "metadata": {},
   "outputs": [
    {
     "name": "stdout",
     "output_type": "stream",
     "text": [
      "Mon Apr 11 08:53:45 2022       \n",
      "+-----------------------------------------------------------------------------+\n",
      "| NVIDIA-SMI 496.13       Driver Version: 496.13       CUDA Version: 11.5     |\n",
      "|-------------------------------+----------------------+----------------------+\n",
      "| GPU  Name            TCC/WDDM | Bus-Id        Disp.A | Volatile Uncorr. ECC |\n",
      "| Fan  Temp  Perf  Pwr:Usage/Cap|         Memory-Usage | GPU-Util  Compute M. |\n",
      "|                               |                      |               MIG M. |\n",
      "|===============================+======================+======================|\n",
      "|   0  NVIDIA GeForce ... WDDM  | 00000000:01:00.0  On |                  N/A |\n",
      "|  0%   33C    P5    22W / 250W |    829MiB /  8192MiB |     22%      Default |\n",
      "|                               |                      |                  N/A |\n",
      "+-------------------------------+----------------------+----------------------+\n",
      "                                                                               \n",
      "+-----------------------------------------------------------------------------+\n",
      "| Processes:                                                                  |\n",
      "|  GPU   GI   CI        PID   Type   Process name                  GPU Memory |\n",
      "|        ID   ID                                                   Usage      |\n",
      "|=============================================================================|\n",
      "|    0   N/A  N/A      1456    C+G   ...icrosoft VS Code\\Code.exe    N/A      |\n",
      "|    0   N/A  N/A      1720    C+G   Insufficient Permissions        N/A      |\n",
      "|    0   N/A  N/A      3500    C+G   ...zilla Firefox\\firefox.exe    N/A      |\n",
      "|    0   N/A  N/A      5244    C+G   ...perience\\NVIDIA Share.exe    N/A      |\n",
      "|    0   N/A  N/A      7272    C+G   C:\\Windows\\explorer.exe         N/A      |\n",
      "|    0   N/A  N/A      9088    C+G   ...5n1h2txyewy\\SearchApp.exe    N/A      |\n",
      "|    0   N/A  N/A      9740    C+G   ...ekyb3d8bbwe\\YourPhone.exe    N/A      |\n",
      "|    0   N/A  N/A     11252    C+G   ...2txyewy\\TextInputHost.exe    N/A      |\n",
      "|    0   N/A  N/A     14220    C+G   ....0.11.0\\GoogleDriveFS.exe    N/A      |\n",
      "|    0   N/A  N/A     17004    C+G   ...zilla Firefox\\firefox.exe    N/A      |\n",
      "+-----------------------------------------------------------------------------+\n"
     ]
    }
   ],
   "source": [
    "!nvidia-smi"
   ]
  },
  {
   "cell_type": "code",
   "execution_count": 4,
   "metadata": {},
   "outputs": [
    {
     "name": "stdout",
     "output_type": "stream",
     "text": [
      "True\n",
      "1\n",
      "0\n",
      "<torch.cuda.device object at 0x0000026BF7706730>\n",
      "NVIDIA GeForce RTX 2080 SUPER\n"
     ]
    }
   ],
   "source": [
    "print(torch.cuda.is_available())\n",
    "print(torch.cuda.device_count())\n",
    "print(torch.cuda.current_device())\n",
    "print(torch.cuda.device(0))\n",
    "print(torch.cuda.get_device_name(0))"
   ]
  },
  {
   "cell_type": "code",
   "execution_count": 5,
   "metadata": {},
   "outputs": [],
   "source": [
    "data = pd.read_csv('../Data/train_features_computed_tabular.csv')\n",
    "labels = pd.read_csv('../Data/train_labels.csv')\n",
    "data = data.merge(labels, on = 'sequence', how = 'left')\n",
    "X, y = data.drop(['sequence', 'state'], axis = 1).values, data['state'].values"
   ]
  },
  {
   "cell_type": "code",
   "execution_count": 6,
   "metadata": {},
   "outputs": [],
   "source": [
    "scaler = MinMaxScaler()\n",
    "model=scaler.fit(X)\n",
    "X=model.transform(X)"
   ]
  },
  {
   "cell_type": "code",
   "execution_count": 7,
   "metadata": {},
   "outputs": [],
   "source": [
    "X_train, X_val, y_train, y_val = train_test_split(X,y,random_state = 42)"
   ]
  },
  {
   "cell_type": "code",
   "execution_count": 8,
   "metadata": {},
   "outputs": [],
   "source": [
    "from pytorch_tabnet.tab_model import TabNetClassifier"
   ]
  },
  {
   "cell_type": "code",
   "execution_count": 17,
   "metadata": {},
   "outputs": [
    {
     "name": "stdout",
     "output_type": "stream",
     "text": [
      "Device used : cuda\n"
     ]
    }
   ],
   "source": [
    "clf = TabNetClassifier(\n",
    "    n_d=64,\n",
    "    n_a=64,\n",
    "    n_steps=5,\n",
    "    gamma=1.5,\n",
    "    lambda_sparse=1e-4,\n",
    "    momentum=0.3,\n",
    "    clip_value=2.0,\n",
    "    optimizer_fn=torch.optim.Adam,\n",
    "    optimizer_params=dict(lr=2e-2),\n",
    "    scheduler_params={\"gamma\": 0.95, \"step_size\": 20},\n",
    "    scheduler_fn=torch.optim.lr_scheduler.StepLR,\n",
    "    epsilon=1e-15,\n",
    ")\n"
   ]
  },
  {
   "cell_type": "code",
   "execution_count": 18,
   "metadata": {},
   "outputs": [],
   "source": [
    "from sklearn.metrics import accuracy_score"
   ]
  },
  {
   "cell_type": "code",
   "execution_count": 19,
   "metadata": {},
   "outputs": [
    {
     "name": "stdout",
     "output_type": "stream",
     "text": [
      "epoch 0  | loss: 1.04016 | train_auc: 0.48176 | valid_auc: 0.50403 |  0:00:02s\n",
      "epoch 1  | loss: 0.7593  | train_auc: 0.58641 | valid_auc: 0.58802 |  0:00:03s\n",
      "epoch 2  | loss: 0.69683 | train_auc: 0.60575 | valid_auc: 0.61105 |  0:00:05s\n",
      "epoch 3  | loss: 0.59447 | train_auc: 0.60723 | valid_auc: 0.59952 |  0:00:07s\n",
      "epoch 4  | loss: 0.60487 | train_auc: 0.78668 | valid_auc: 0.78355 |  0:00:09s\n",
      "epoch 5  | loss: 0.59976 | train_auc: 0.77358 | valid_auc: 0.76985 |  0:00:11s\n",
      "epoch 6  | loss: 0.55619 | train_auc: 0.73651 | valid_auc: 0.73401 |  0:00:13s\n",
      "epoch 7  | loss: 0.54585 | train_auc: 0.79126 | valid_auc: 0.78501 |  0:00:15s\n",
      "epoch 8  | loss: 0.53595 | train_auc: 0.60123 | valid_auc: 0.61445 |  0:00:17s\n",
      "epoch 9  | loss: 0.53294 | train_auc: 0.76899 | valid_auc: 0.76403 |  0:00:19s\n",
      "epoch 10 | loss: 0.53278 | train_auc: 0.7774  | valid_auc: 0.77224 |  0:00:21s\n",
      "epoch 11 | loss: 0.534   | train_auc: 0.76964 | valid_auc: 0.76127 |  0:00:23s\n",
      "epoch 12 | loss: 0.52937 | train_auc: 0.77435 | valid_auc: 0.77031 |  0:00:25s\n",
      "epoch 13 | loss: 0.54749 | train_auc: 0.79116 | valid_auc: 0.78536 |  0:00:27s\n",
      "epoch 14 | loss: 0.54188 | train_auc: 0.79637 | valid_auc: 0.79244 |  0:00:29s\n",
      "epoch 15 | loss: 0.5387  | train_auc: 0.67425 | valid_auc: 0.67242 |  0:00:31s\n",
      "epoch 16 | loss: 0.53672 | train_auc: 0.78603 | valid_auc: 0.77705 |  0:00:33s\n",
      "epoch 17 | loss: 0.54502 | train_auc: 0.792   | valid_auc: 0.78617 |  0:00:35s\n",
      "epoch 18 | loss: 0.54937 | train_auc: 0.78626 | valid_auc: 0.7794  |  0:00:37s\n",
      "epoch 19 | loss: 0.53946 | train_auc: 0.7892  | valid_auc: 0.78111 |  0:00:39s\n",
      "epoch 20 | loss: 0.54008 | train_auc: 0.76585 | valid_auc: 0.75885 |  0:00:41s\n",
      "epoch 21 | loss: 0.53961 | train_auc: 0.79489 | valid_auc: 0.78817 |  0:00:43s\n",
      "epoch 22 | loss: 0.53245 | train_auc: 0.80021 | valid_auc: 0.79508 |  0:00:45s\n",
      "epoch 23 | loss: 0.52859 | train_auc: 0.79424 | valid_auc: 0.78996 |  0:00:47s\n",
      "epoch 24 | loss: 0.53509 | train_auc: 0.79154 | valid_auc: 0.78436 |  0:00:49s\n",
      "epoch 25 | loss: 0.54012 | train_auc: 0.78572 | valid_auc: 0.78372 |  0:00:51s\n",
      "epoch 26 | loss: 0.54336 | train_auc: 0.79058 | valid_auc: 0.78391 |  0:00:54s\n",
      "epoch 27 | loss: 0.53326 | train_auc: 0.79653 | valid_auc: 0.78987 |  0:00:56s\n",
      "epoch 28 | loss: 0.53206 | train_auc: 0.7966  | valid_auc: 0.79132 |  0:00:58s\n",
      "epoch 29 | loss: 0.53046 | train_auc: 0.80565 | valid_auc: 0.80167 |  0:01:00s\n",
      "epoch 30 | loss: 0.52856 | train_auc: 0.79963 | valid_auc: 0.79301 |  0:01:02s\n",
      "epoch 31 | loss: 0.52525 | train_auc: 0.80761 | valid_auc: 0.80144 |  0:01:04s\n",
      "epoch 32 | loss: 0.52511 | train_auc: 0.80576 | valid_auc: 0.79951 |  0:01:06s\n",
      "epoch 33 | loss: 0.52288 | train_auc: 0.81048 | valid_auc: 0.80356 |  0:01:08s\n",
      "epoch 34 | loss: 0.52228 | train_auc: 0.80431 | valid_auc: 0.79751 |  0:01:09s\n",
      "epoch 35 | loss: 0.52706 | train_auc: 0.81146 | valid_auc: 0.80678 |  0:01:11s\n",
      "epoch 36 | loss: 0.51808 | train_auc: 0.81717 | valid_auc: 0.80853 |  0:01:13s\n",
      "epoch 37 | loss: 0.51596 | train_auc: 0.81695 | valid_auc: 0.80653 |  0:01:15s\n",
      "epoch 38 | loss: 0.51916 | train_auc: 0.81406 | valid_auc: 0.80385 |  0:01:17s\n",
      "epoch 39 | loss: 0.52852 | train_auc: 0.81477 | valid_auc: 0.80807 |  0:01:19s\n",
      "epoch 40 | loss: 0.51757 | train_auc: 0.81341 | valid_auc: 0.80606 |  0:01:21s\n",
      "epoch 41 | loss: 0.51689 | train_auc: 0.81516 | valid_auc: 0.80968 |  0:01:23s\n",
      "epoch 42 | loss: 0.51831 | train_auc: 0.82207 | valid_auc: 0.81808 |  0:01:25s\n",
      "epoch 43 | loss: 0.51929 | train_auc: 0.82289 | valid_auc: 0.8196  |  0:01:27s\n",
      "epoch 44 | loss: 0.51585 | train_auc: 0.82232 | valid_auc: 0.82038 |  0:01:29s\n",
      "epoch 45 | loss: 0.51393 | train_auc: 0.82563 | valid_auc: 0.82426 |  0:01:31s\n",
      "epoch 46 | loss: 0.51213 | train_auc: 0.82426 | valid_auc: 0.82182 |  0:01:33s\n",
      "epoch 47 | loss: 0.50832 | train_auc: 0.82357 | valid_auc: 0.81945 |  0:01:35s\n",
      "epoch 48 | loss: 0.50813 | train_auc: 0.82599 | valid_auc: 0.82165 |  0:01:37s\n",
      "epoch 49 | loss: 0.50369 | train_auc: 0.82808 | valid_auc: 0.8238  |  0:01:39s\n",
      "epoch 50 | loss: 0.50834 | train_auc: 0.82695 | valid_auc: 0.82499 |  0:01:41s\n",
      "epoch 51 | loss: 0.50368 | train_auc: 0.83066 | valid_auc: 0.82779 |  0:01:43s\n",
      "epoch 52 | loss: 0.50078 | train_auc: 0.82592 | valid_auc: 0.82277 |  0:01:45s\n",
      "epoch 53 | loss: 0.50477 | train_auc: 0.82882 | valid_auc: 0.82555 |  0:01:47s\n",
      "epoch 54 | loss: 0.50002 | train_auc: 0.83071 | valid_auc: 0.82783 |  0:01:49s\n",
      "epoch 55 | loss: 0.49846 | train_auc: 0.83323 | valid_auc: 0.82842 |  0:01:51s\n",
      "epoch 56 | loss: 0.49658 | train_auc: 0.83518 | valid_auc: 0.83099 |  0:01:53s\n",
      "epoch 57 | loss: 0.49527 | train_auc: 0.83752 | valid_auc: 0.83368 |  0:01:55s\n",
      "epoch 58 | loss: 0.49431 | train_auc: 0.83654 | valid_auc: 0.83107 |  0:01:57s\n",
      "epoch 59 | loss: 0.49765 | train_auc: 0.83688 | valid_auc: 0.83268 |  0:01:59s\n",
      "epoch 60 | loss: 0.49374 | train_auc: 0.83675 | valid_auc: 0.83439 |  0:02:01s\n",
      "epoch 61 | loss: 0.49295 | train_auc: 0.83869 | valid_auc: 0.8349  |  0:02:03s\n",
      "epoch 62 | loss: 0.49207 | train_auc: 0.83906 | valid_auc: 0.83651 |  0:02:05s\n",
      "epoch 63 | loss: 0.48959 | train_auc: 0.83862 | valid_auc: 0.83522 |  0:02:08s\n",
      "epoch 64 | loss: 0.48538 | train_auc: 0.84067 | valid_auc: 0.83587 |  0:02:10s\n",
      "epoch 65 | loss: 0.48378 | train_auc: 0.83973 | valid_auc: 0.83515 |  0:02:12s\n",
      "epoch 66 | loss: 0.48651 | train_auc: 0.83259 | valid_auc: 0.82405 |  0:02:14s\n",
      "epoch 67 | loss: 0.49856 | train_auc: 0.84186 | valid_auc: 0.83377 |  0:02:16s\n",
      "epoch 68 | loss: 0.48919 | train_auc: 0.84146 | valid_auc: 0.83339 |  0:02:18s\n",
      "epoch 69 | loss: 0.49499 | train_auc: 0.83624 | valid_auc: 0.83104 |  0:02:20s\n",
      "epoch 70 | loss: 0.49302 | train_auc: 0.83489 | valid_auc: 0.82615 |  0:02:22s\n",
      "epoch 71 | loss: 0.48779 | train_auc: 0.83405 | valid_auc: 0.82815 |  0:02:24s\n",
      "epoch 72 | loss: 0.48163 | train_auc: 0.8423  | valid_auc: 0.83547 |  0:02:27s\n",
      "epoch 73 | loss: 0.47968 | train_auc: 0.84549 | valid_auc: 0.83827 |  0:02:29s\n",
      "epoch 74 | loss: 0.47849 | train_auc: 0.84768 | valid_auc: 0.84007 |  0:02:31s\n",
      "epoch 75 | loss: 0.47624 | train_auc: 0.84929 | valid_auc: 0.84236 |  0:02:33s\n",
      "epoch 76 | loss: 0.47066 | train_auc: 0.84981 | valid_auc: 0.8441  |  0:02:35s\n",
      "epoch 77 | loss: 0.46796 | train_auc: 0.85269 | valid_auc: 0.84387 |  0:02:37s\n",
      "epoch 78 | loss: 0.47117 | train_auc: 0.85494 | valid_auc: 0.84635 |  0:02:40s\n"
     ]
    }
   ],
   "source": [
    "clf.fit(\n",
    "    X_train=X_train,\n",
    "    y_train=y_train,\n",
    "    max_epochs=1000, \n",
    "    eval_metric=['auc'],\n",
    "    eval_set=[(X_train, y_train), (X_val, y_val)],\n",
    "    eval_name=[\"train\", \"valid\"],\n",
    "    patience=20,\n",
    ")\n"
   ]
  },
  {
   "cell_type": "code",
   "execution_count": null,
   "metadata": {},
   "outputs": [],
   "source": [
    "#TODO: OPTMA TUNING, ENSEMBLE "
   ]
  }
 ],
 "metadata": {
  "interpreter": {
   "hash": "f0328b9ad2d19e2d019a5993aa83b306c7898874533c9685774e41d7ccadc38f"
  },
  "kernelspec": {
   "display_name": "Python 3.9.11 ('tab22': venv)",
   "language": "python",
   "name": "python3"
  },
  "language_info": {
   "codemirror_mode": {
    "name": "ipython",
    "version": 3
   },
   "file_extension": ".py",
   "mimetype": "text/x-python",
   "name": "python",
   "nbconvert_exporter": "python",
   "pygments_lexer": "ipython3",
   "version": "3.9.11"
  },
  "orig_nbformat": 4
 },
 "nbformat": 4,
 "nbformat_minor": 2
}
