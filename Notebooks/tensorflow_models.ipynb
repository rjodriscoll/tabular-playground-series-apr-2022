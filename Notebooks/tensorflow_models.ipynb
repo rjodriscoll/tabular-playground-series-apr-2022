{
 "cells": [
  {
   "cell_type": "code",
   "execution_count": null,
   "metadata": {},
   "outputs": [],
   "source": [
    "import tensorflow as tf\n",
    "from tensorflow import keras\n",
    "import numpy as np \n",
    "\n",
    "from sklearn.preprocessing import StandardScaler\n",
    "from sklearn.model_selection import GroupKFold\n",
    "from sklearn.metrics import roc_auc_score\n",
    "from utility_funcs import get_train_labels_test, split_train_data, scale_and_as_array\n"
   ]
  },
  {
   "cell_type": "code",
   "execution_count": null,
   "metadata": {},
   "outputs": [],
   "source": [
    "train, labels, test = get_train_labels_test()"
   ]
  },
  {
   "cell_type": "code",
   "execution_count": null,
   "metadata": {},
   "outputs": [],
   "source": [
    "features = [f for f in train.columns if 'sensor' in f]"
   ]
  },
  {
   "cell_type": "code",
   "execution_count": null,
   "metadata": {},
   "outputs": [],
   "source": [
    "groups = train[\"sequence\"]\n",
    "train = train.drop([\"sequence\", \"subject\", \"step\"], axis=1).values\n",
    "test = test.drop([\"sequence\", \"subject\", \"step\"], axis=1).values\n",
    "labels = labels[\"state\"]\n",
    "\n",
    "scaler = StandardScaler()\n",
    "train = scaler.fit_transform(train)\n",
    "test = scaler.transform(test)\n",
    "\n",
    "\n",
    "train = train.reshape(-1, 60, 13)\n",
    "test = test.reshape(-1, 60, 13)"
   ]
  },
  {
   "cell_type": "code",
   "execution_count": null,
   "metadata": {},
   "outputs": [],
   "source": [
    "assert train.shape[0] == labels.shape[0]"
   ]
  },
  {
   "cell_type": "markdown",
   "metadata": {},
   "source": [
    "### Helper functions "
   ]
  },
  {
   "cell_type": "code",
   "execution_count": null,
   "metadata": {},
   "outputs": [],
   "source": [
    "def compile_model(model):\n",
    "    model.compile(\n",
    "        optimizer=\"adam\", loss=\"binary_crossentropy\", metrics=[keras.metrics.AUC()]\n",
    "    )\n",
    "    return model\n",
    "\n",
    "\n",
    "def train_model(model_in):\n",
    "    \n",
    "    gkf = GroupKFold(3)\n",
    "    val_rocs = []\n",
    "\n",
    "\n",
    "    for fold, (train_idx, val_idx) in enumerate(\n",
    "        gkf.split(train, labels, groups.unique())\n",
    "    ):\n",
    "        print(f'Fitting fold {fold} for {model_in.name}')\n",
    "        model = keras.models.clone_model(model_in)\n",
    "        model.compile(\n",
    "            optimizer=\"adam\", loss=\"binary_crossentropy\", metrics=[keras.metrics.AUC()]\n",
    "        )\n",
    "\n",
    "        X_train, X_val = train[train_idx], train[val_idx]\n",
    "        y_train, y_val = labels.iloc[train_idx], labels.iloc[val_idx]\n",
    "\n",
    "        model.fit(\n",
    "            X_train,\n",
    "            y_train,\n",
    "            validation_data=(X_val, y_val),\n",
    "            epochs=100,\n",
    "            verbose = 0,\n",
    "            batch_size=256,\n",
    "            callbacks=[\n",
    "                keras.callbacks.EarlyStopping(\n",
    "                    patience=5, monitor=\"val_loss\", restore_best_weights=True\n",
    "                )\n",
    "            ],\n",
    "        )\n",
    "        auc = roc_auc_score(y_val, model.predict(X_val).squeeze())\n",
    "        print(f'The val auc for fold {fold}, {model_in.name} is {auc}')\n",
    "        val_rocs.append(auc)\n",
    "\n",
    "    result = sum(val_rocs)/3\n",
    "    return result\n",
    "\n",
    "\n"
   ]
  },
  {
   "cell_type": "markdown",
   "metadata": {},
   "source": [
    "### test models"
   ]
  },
  {
   "cell_type": "code",
   "execution_count": null,
   "metadata": {},
   "outputs": [],
   "source": [
    "model_1 = keras.models.Sequential([\n",
    "    keras.layers.Flatten(input_shape = (60, train.shape[2])),\n",
    "    keras.layers.Dense(50, activation = 'relu'),\n",
    "    keras.layers.Dense(1, activation = 'sigmoid')\n",
    "], name = 'model_1')\n",
    "\n",
    "\n",
    "model_2 = keras.models.Sequential([\n",
    "    keras.layers.Flatten(input_shape = (60, train.shape[2])),\n",
    "    keras.layers.Dense(200, activation = 'relu'),\n",
    "    keras.layers.Dense(100, activation = 'relu'),\n",
    "    keras.layers.Dense(50, activation = 'relu'),\n",
    "    keras.layers.Dense(1, activation = 'sigmoid')\n",
    "], name = 'model_2')\n",
    "\n",
    "models = [model_1, model_2]\n",
    "\n",
    "model_dicts = {}\n",
    "for i, model_in in enumerate(models):\n",
    "    val_auc = train_model(model_in)\n",
    "    model_dicts[model_in.name] = val_auc\n",
    "    \n"
   ]
  },
  {
   "cell_type": "code",
   "execution_count": null,
   "metadata": {},
   "outputs": [],
   "source": []
  }
 ],
 "metadata": {
  "interpreter": {
   "hash": "7b92df8db2aee7cb875135ba1d7eaa32a50a22a58aceb09a92d7d4db7bc5f914"
  },
  "kernelspec": {
   "display_name": "Python 3.9.7 64-bit",
   "language": "python",
   "name": "python3"
  },
  "language_info": {
   "codemirror_mode": {
    "name": "ipython",
    "version": 3
   },
   "file_extension": ".py",
   "mimetype": "text/x-python",
   "name": "python",
   "nbconvert_exporter": "python",
   "pygments_lexer": "ipython3",
   "version": "3.9.7"
  },
  "orig_nbformat": 4
 },
 "nbformat": 4,
 "nbformat_minor": 2
}
