{
  "nbformat": 4,
  "nbformat_minor": 0,
  "metadata": {
    "colab": {
      "name": "RunLazyPred.ipynb",
      "provenance": []
    },
    "kernelspec": {
      "name": "python3",
      "display_name": "Python 3"
    },
    "language_info": {
      "name": "python"
    }
  },
  "cells": [
    {
      "cell_type": "code",
      "execution_count": 1,
      "metadata": {
        "colab": {
          "base_uri": "https://localhost:8080/"
        },
        "id": "a1SSQwWKhNUC",
        "outputId": "7852da83-8211-49b1-9615-1c0efb925baf"
      },
      "outputs": [
        {
          "output_type": "stream",
          "name": "stderr",
          "text": [
            "/usr/local/lib/python3.7/dist-packages/sklearn/utils/deprecation.py:143: FutureWarning: The sklearn.utils.testing module is  deprecated in version 0.22 and will be removed in version 0.24. The corresponding classes / functions should instead be imported from sklearn.utils. Anything that cannot be imported from sklearn.utils is now part of the private API.\n",
            "  warnings.warn(message, FutureWarning)\n"
          ]
        }
      ],
      "source": [
        "from lazypredict.Supervised import LazyClassifier\n",
        "from sklearn.model_selection import train_test_split\n",
        "import pandas as pd"
      ]
    },
    {
      "cell_type": "code",
      "source": [
        "from google.colab import drive\n",
        "drive.mount('/content/gdrive')"
      ],
      "metadata": {
        "colab": {
          "base_uri": "https://localhost:8080/"
        },
        "id": "DlKVerUBhXe_",
        "outputId": "bd7e1da5-8fbe-4d23-d825-602ab4005928"
      },
      "execution_count": 2,
      "outputs": [
        {
          "output_type": "stream",
          "name": "stdout",
          "text": [
            "Drive already mounted at /content/gdrive; to attempt to forcibly remount, call drive.mount(\"/content/gdrive\", force_remount=True).\n"
          ]
        }
      ]
    },
    {
      "cell_type": "code",
      "source": [
        "data = pd.read_csv(\"/content/gdrive/MyDrive/Kaggle/tabular-playground-series-apr-2022/Data/train_features_computed_tabular.csv\")\n",
        "labels = pd.read_csv(\"/content/gdrive/MyDrive/Kaggle/tabular-playground-series-apr-2022/Data/train_labels.csv\")\n"
      ],
      "metadata": {
        "id": "3ekZX3VIiFjr"
      },
      "execution_count": 3,
      "outputs": []
    },
    {
      "cell_type": "code",
      "source": [
        "data = data.merge(labels, on=\"sequence\", how=\"left\")\n",
        "X, y = data.drop([\"sequence\", \"state\"], axis=1).values, data[\"state\"].values\n",
        "\n",
        "\n",
        "X_train, X_test, y_train, y_test = train_test_split(X, y, test_size=0.2)"
      ],
      "metadata": {
        "id": "pfL2mKm1iNQ2"
      },
      "execution_count": 4,
      "outputs": []
    },
    {
      "cell_type": "code",
      "source": [
        "## Run\n",
        "clf = LazyClassifier(verbose=1,ignore_warnings=True, custom_metric=None)\n",
        "models,predictions = clf.fit(X_train, X_test, y_train, y_test)"
      ],
      "metadata": {
        "colab": {
          "base_uri": "https://localhost:8080/"
        },
        "id": "xkBtM3yEiV9G",
        "outputId": "fe723fd1-3358-400c-df61-f6f45b209b87"
      },
      "execution_count": 5,
      "outputs": [
        {
          "output_type": "stream",
          "name": "stderr",
          "text": [
            "  3%|▎         | 1/29 [00:45<21:27, 45.98s/it]"
          ]
        },
        {
          "output_type": "stream",
          "name": "stdout",
          "text": [
            "{'Model': 'AdaBoostClassifier', 'Accuracy': 0.8084328070850982, 'Balanced Accuracy': 0.8085563744504785, 'ROC AUC': 0.8085563744504783, 'F1 Score': 0.8083943507394681, 'Time taken': 45.981860637664795}\n"
          ]
        },
        {
          "output_type": "stream",
          "name": "stderr",
          "text": [
            "\r  7%|▋         | 2/29 [01:54<26:41, 59.30s/it]"
          ]
        },
        {
          "output_type": "stream",
          "name": "stdout",
          "text": [
            "{'Model': 'BaggingClassifier', 'Accuracy': 0.783981517135156, 'Balanced Accuracy': 0.7838995214743429, 'ROC AUC': 0.7838995214743429, 'F1 Score': 0.7839462748240408, 'Time taken': 68.62084484100342}\n"
          ]
        },
        {
          "output_type": "stream",
          "name": "stderr",
          "text": [
            "\r 10%|█         | 3/29 [01:54<14:02, 32.40s/it]"
          ]
        },
        {
          "output_type": "stream",
          "name": "stdout",
          "text": [
            "{'Model': 'BernoulliNB', 'Accuracy': 0.7077396996534463, 'Balanced Accuracy': 0.7073014604878257, 'ROC AUC': 0.7073014604878258, 'F1 Score': 0.7066365182512192, 'Time taken': 0.3809821605682373}\n"
          ]
        },
        {
          "output_type": "stream",
          "name": "stderr",
          "text": [
            "\r 14%|█▍        | 4/29 [03:27<23:24, 56.20s/it]"
          ]
        },
        {
          "output_type": "stream",
          "name": "stdout",
          "text": [
            "{'Model': 'CalibratedClassifierCV', 'Accuracy': 0.7787832113977666, 'Balanced Accuracy': 0.7788685667717667, 'ROC AUC': 0.7788685667717667, 'F1 Score': 0.7787656709591908, 'Time taken': 92.6676812171936}\n"
          ]
        },
        {
          "output_type": "stream",
          "name": "stderr",
          "text": [
            " 21%|██        | 6/29 [03:38<10:30, 27.40s/it]"
          ]
        },
        {
          "output_type": "stream",
          "name": "stdout",
          "text": [
            "{'Model': 'DecisionTreeClassifier', 'Accuracy': 0.7148633038120908, 'Balanced Accuracy': 0.7147423921063433, 'ROC AUC': 0.7147423921063433, 'F1 Score': 0.7147736859586006, 'Time taken': 10.67713737487793}\n"
          ]
        },
        {
          "output_type": "stream",
          "name": "stderr",
          "text": [
            "\r 24%|██▍       | 7/29 [03:38<06:47, 18.52s/it]"
          ]
        },
        {
          "output_type": "stream",
          "name": "stdout",
          "text": [
            "{'Model': 'DummyClassifier', 'Accuracy': 0.5023103581055064, 'Balanced Accuracy': 0.5023273855702095, 'ROC AUC': 0.5023273855702095, 'F1 Score': 0.5023143613787528, 'Time taken': 0.23355937004089355}\n"
          ]
        },
        {
          "output_type": "stream",
          "name": "stderr",
          "text": [
            "\r 28%|██▊       | 8/29 [03:39<04:27, 12.73s/it]"
          ]
        },
        {
          "output_type": "stream",
          "name": "stdout",
          "text": [
            "{'Model': 'ExtraTreeClassifier', 'Accuracy': 0.6790527531767424, 'Balanced Accuracy': 0.6790454338403286, 'ROC AUC': 0.6790454338403287, 'F1 Score': 0.6790553348719499, 'Time taken': 0.3092615604400635}\n"
          ]
        },
        {
          "output_type": "stream",
          "name": "stderr",
          "text": [
            "\r 31%|███       | 9/29 [03:46<03:40, 11.01s/it]"
          ]
        },
        {
          "output_type": "stream",
          "name": "stdout",
          "text": [
            "{'Model': 'ExtraTreesClassifier', 'Accuracy': 0.8124759337697343, 'Balanced Accuracy': 0.8128800388134841, 'ROC AUC': 0.8128800388134841, 'F1 Score': 0.811951492669978, 'Time taken': 7.23244571685791}\n"
          ]
        },
        {
          "output_type": "stream",
          "name": "stderr",
          "text": [
            "\r 34%|███▍      | 10/29 [03:46<02:26,  7.71s/it]"
          ]
        },
        {
          "output_type": "stream",
          "name": "stdout",
          "text": [
            "{'Model': 'GaussianNB', 'Accuracy': 0.548710050057759, 'Balanced Accuracy': 0.5518018258470284, 'ROC AUC': 0.5518018258470283, 'F1 Score': 0.4511788059091837, 'Time taken': 0.315997838973999}\n"
          ]
        },
        {
          "output_type": "stream",
          "name": "stderr",
          "text": [
            "\r 38%|███▊      | 11/29 [04:57<08:09, 27.17s/it]"
          ]
        },
        {
          "output_type": "stream",
          "name": "stdout",
          "text": [
            "{'Model': 'KNeighborsClassifier', 'Accuracy': 0.7572198690797074, 'Balanced Accuracy': 0.7573575988782998, 'ROC AUC': 0.7573575988782997, 'F1 Score': 0.7571534154403908, 'Time taken': 71.2980546951294}\n"
          ]
        },
        {
          "output_type": "stream",
          "name": "stderr",
          "text": [
            "\r 41%|████▏     | 12/29 [05:19<07:14, 25.54s/it]"
          ]
        },
        {
          "output_type": "stream",
          "name": "stdout",
          "text": [
            "{'Model': 'LabelPropagation', 'Accuracy': 0.584713130535233, 'Balanced Accuracy': 0.582531441057359, 'ROC AUC': 0.582531441057359, 'F1 Score': 0.5439065311170302, 'Time taken': 21.806596755981445}\n"
          ]
        },
        {
          "output_type": "stream",
          "name": "stderr",
          "text": [
            "\r 45%|████▍     | 13/29 [05:58<07:53, 29.57s/it]"
          ]
        },
        {
          "output_type": "stream",
          "name": "stdout",
          "text": [
            "{'Model': 'LabelSpreading', 'Accuracy': 0.584713130535233, 'Balanced Accuracy': 0.582531441057359, 'ROC AUC': 0.582531441057359, 'F1 Score': 0.5439065311170302, 'Time taken': 38.84182071685791}\n"
          ]
        },
        {
          "output_type": "stream",
          "name": "stderr",
          "text": [
            "\r 48%|████▊     | 14/29 [06:00<05:17, 21.14s/it]"
          ]
        },
        {
          "output_type": "stream",
          "name": "stdout",
          "text": [
            "{'Model': 'LinearDiscriminantAnalysis', 'Accuracy': 0.7764728532922603, 'Balanced Accuracy': 0.7765496330986967, 'ROC AUC': 0.7765496330986967, 'F1 Score': 0.7764598030971862, 'Time taken': 1.647646427154541}\n"
          ]
        },
        {
          "output_type": "stream",
          "name": "stderr",
          "text": [
            "\r 52%|█████▏    | 15/29 [06:23<05:04, 21.74s/it]"
          ]
        },
        {
          "output_type": "stream",
          "name": "stdout",
          "text": [
            "{'Model': 'LinearSVC', 'Accuracy': 0.777435502502888, 'Balanced Accuracy': 0.7774968386939121, 'ROC AUC': 0.7774968386939121, 'F1 Score': 0.7774294964862244, 'Time taken': 23.12914800643921}\n"
          ]
        },
        {
          "output_type": "stream",
          "name": "stderr",
          "text": [
            "\r 55%|█████▌    | 16/29 [06:24<03:22, 15.60s/it]"
          ]
        },
        {
          "output_type": "stream",
          "name": "stdout",
          "text": [
            "{'Model': 'LogisticRegression', 'Accuracy': 0.7793608009241433, 'Balanced Accuracy': 0.7794081536786215, 'ROC AUC': 0.7794081536786215, 'F1 Score': 0.7793594269191181, 'Time taken': 1.3569362163543701}\n"
          ]
        },
        {
          "output_type": "stream",
          "name": "stderr",
          "text": [
            "\r 59%|█████▊    | 17/29 [06:25<02:12, 11.05s/it]"
          ]
        },
        {
          "output_type": "stream",
          "name": "stdout",
          "text": [
            "{'Model': 'NearestCentroid', 'Accuracy': 0.692722371967655, 'Balanced Accuracy': 0.691900176273953, 'ROC AUC': 0.691900176273953, 'F1 Score': 0.6886925599024876, 'Time taken': 0.4416518211364746}\n"
          ]
        },
        {
          "output_type": "stream",
          "name": "stderr",
          "text": [
            "\r 62%|██████▏   | 18/29 [11:02<16:39, 90.90s/it]"
          ]
        },
        {
          "output_type": "stream",
          "name": "stdout",
          "text": [
            "{'Model': 'NuSVC', 'Accuracy': 0.8026569118213323, 'Balanced Accuracy': 0.8029548425515358, 'ROC AUC': 0.8029548425515358, 'F1 Score': 0.8023665975158359, 'Time taken': 276.7775390148163}\n"
          ]
        },
        {
          "output_type": "stream",
          "name": "stderr",
          "text": [
            "\r 66%|██████▌   | 19/29 [11:02<10:37, 63.76s/it]"
          ]
        },
        {
          "output_type": "stream",
          "name": "stdout",
          "text": [
            "{'Model': 'PassiveAggressiveClassifier', 'Accuracy': 0.6557566422795533, 'Balanced Accuracy': 0.6561946178319016, 'ROC AUC': 0.6561946178319015, 'F1 Score': 0.654570623679658, 'Time taken': 0.5484695434570312}\n"
          ]
        },
        {
          "output_type": "stream",
          "name": "stderr",
          "text": [
            "\r 69%|██████▉   | 20/29 [11:03<06:42, 44.78s/it]"
          ]
        },
        {
          "output_type": "stream",
          "name": "stdout",
          "text": [
            "{'Model': 'Perceptron', 'Accuracy': 0.7065845206006931, 'Balanced Accuracy': 0.7069406979309756, 'ROC AUC': 0.7069406979309756, 'F1 Score': 0.7059343691828038, 'Time taken': 0.5229582786560059}\n"
          ]
        },
        {
          "output_type": "stream",
          "name": "stderr",
          "text": [
            "\r 72%|███████▏  | 21/29 [11:04<04:13, 31.67s/it]"
          ]
        },
        {
          "output_type": "stream",
          "name": "stdout",
          "text": [
            "{'Model': 'QuadraticDiscriminantAnalysis', 'Accuracy': 0.6145552560646901, 'Balanced Accuracy': 0.6170166641755812, 'ROC AUC': 0.6170166641755812, 'F1 Score': 0.5657804826041787, 'Time taken': 1.0948543548583984}\n"
          ]
        },
        {
          "output_type": "stream",
          "name": "stderr",
          "text": [
            "\r 76%|███████▌  | 22/29 [11:40<03:52, 33.18s/it]"
          ]
        },
        {
          "output_type": "stream",
          "name": "stdout",
          "text": [
            "{'Model': 'RandomForestClassifier', 'Accuracy': 0.8172891798228725, 'Balanced Accuracy': 0.8176047975933742, 'ROC AUC': 0.8176047975933742, 'F1 Score': 0.816986816070787, 'Time taken': 36.71235418319702}\n"
          ]
        },
        {
          "output_type": "stream",
          "name": "stderr",
          "text": [
            "\r 79%|███████▉  | 23/29 [11:41<02:20, 23.40s/it]"
          ]
        },
        {
          "output_type": "stream",
          "name": "stdout",
          "text": [
            "{'Model': 'RidgeClassifier', 'Accuracy': 0.7728147862918753, 'Balanced Accuracy': 0.7728702405439581, 'ROC AUC': 0.7728702405439581, 'F1 Score': 0.7728107440805118, 'Time taken': 0.5767526626586914}\n"
          ]
        },
        {
          "output_type": "stream",
          "name": "stderr",
          "text": [
            "\r 83%|████████▎ | 24/29 [11:42<01:23, 16.72s/it]"
          ]
        },
        {
          "output_type": "stream",
          "name": "stdout",
          "text": [
            "{'Model': 'RidgeClassifierCV', 'Accuracy': 0.7733923758182518, 'Balanced Accuracy': 0.773443635039371, 'ROC AUC': 0.773443635039371, 'F1 Score': 0.773389729866202, 'Time taken': 1.1416707038879395}\n"
          ]
        },
        {
          "output_type": "stream",
          "name": "stderr",
          "text": [
            "\r 86%|████████▌ | 25/29 [11:44<00:48, 12.19s/it]"
          ]
        },
        {
          "output_type": "stream",
          "name": "stdout",
          "text": [
            "{'Model': 'SGDClassifier', 'Accuracy': 0.7504813246053138, 'Balanced Accuracy': 0.7504595163023751, 'ROC AUC': 0.750459516302375, 'F1 Score': 0.750478882669412, 'Time taken': 1.6100678443908691}\n"
          ]
        },
        {
          "output_type": "stream",
          "name": "stderr",
          "text": [
            "\r 90%|████████▉ | 26/29 [14:25<02:51, 57.00s/it]"
          ]
        },
        {
          "output_type": "stream",
          "name": "stdout",
          "text": [
            "{'Model': 'SVC', 'Accuracy': 0.7995764343473238, 'Balanced Accuracy': 0.7998882866788611, 'ROC AUC': 0.7998882866788611, 'F1 Score': 0.7992510464291711, 'Time taken': 161.5552270412445}\n"
          ]
        },
        {
          "output_type": "stream",
          "name": "stderr",
          "text": [
            "\r 97%|█████████▋| 28/29 [15:13<00:41, 41.72s/it]"
          ]
        },
        {
          "output_type": "stream",
          "name": "stdout",
          "text": [
            "{'Model': 'XGBClassifier', 'Accuracy': 0.8361571043511744, 'Balanced Accuracy': 0.8363554055368526, 'ROC AUC': 0.8363554055368527, 'F1 Score': 0.836059749216227, 'Time taken': 47.79209804534912}\n"
          ]
        },
        {
          "output_type": "stream",
          "name": "stderr",
          "text": [
            "100%|██████████| 29/29 [15:22<00:00, 31.79s/it]"
          ]
        },
        {
          "output_type": "stream",
          "name": "stdout",
          "text": [
            "{'Model': 'LGBMClassifier', 'Accuracy': 0.8367346938775511, 'Balanced Accuracy': 0.8369654249198701, 'ROC AUC': 0.8369654249198701, 'F1 Score': 0.8365988020132961, 'Time taken': 8.412481546401978}\n"
          ]
        },
        {
          "output_type": "stream",
          "name": "stderr",
          "text": [
            "\n"
          ]
        }
      ]
    },
    {
      "cell_type": "code",
      "source": [
        "print(models)"
      ],
      "metadata": {
        "colab": {
          "base_uri": "https://localhost:8080/"
        },
        "id": "eJ-asDgYirwG",
        "outputId": "f2c04af3-edfe-44d2-fa4e-4b57c94571a6"
      },
      "execution_count": 6,
      "outputs": [
        {
          "output_type": "stream",
          "name": "stdout",
          "text": [
            "                               Accuracy  Balanced Accuracy  ROC AUC  F1 Score  \\\n",
            "Model                                                                           \n",
            "LGBMClassifier                     0.84               0.84     0.84      0.84   \n",
            "XGBClassifier                      0.84               0.84     0.84      0.84   \n",
            "RandomForestClassifier             0.82               0.82     0.82      0.82   \n",
            "ExtraTreesClassifier               0.81               0.81     0.81      0.81   \n",
            "AdaBoostClassifier                 0.81               0.81     0.81      0.81   \n",
            "NuSVC                              0.80               0.80     0.80      0.80   \n",
            "SVC                                0.80               0.80     0.80      0.80   \n",
            "BaggingClassifier                  0.78               0.78     0.78      0.78   \n",
            "LogisticRegression                 0.78               0.78     0.78      0.78   \n",
            "CalibratedClassifierCV             0.78               0.78     0.78      0.78   \n",
            "LinearSVC                          0.78               0.78     0.78      0.78   \n",
            "LinearDiscriminantAnalysis         0.78               0.78     0.78      0.78   \n",
            "RidgeClassifierCV                  0.77               0.77     0.77      0.77   \n",
            "RidgeClassifier                    0.77               0.77     0.77      0.77   \n",
            "KNeighborsClassifier               0.76               0.76     0.76      0.76   \n",
            "SGDClassifier                      0.75               0.75     0.75      0.75   \n",
            "DecisionTreeClassifier             0.71               0.71     0.71      0.71   \n",
            "BernoulliNB                        0.71               0.71     0.71      0.71   \n",
            "Perceptron                         0.71               0.71     0.71      0.71   \n",
            "NearestCentroid                    0.69               0.69     0.69      0.69   \n",
            "ExtraTreeClassifier                0.68               0.68     0.68      0.68   \n",
            "PassiveAggressiveClassifier        0.66               0.66     0.66      0.65   \n",
            "QuadraticDiscriminantAnalysis      0.61               0.62     0.62      0.57   \n",
            "LabelSpreading                     0.58               0.58     0.58      0.54   \n",
            "LabelPropagation                   0.58               0.58     0.58      0.54   \n",
            "GaussianNB                         0.55               0.55     0.55      0.45   \n",
            "DummyClassifier                    0.50               0.50     0.50      0.50   \n",
            "\n",
            "                               Time Taken  \n",
            "Model                                      \n",
            "LGBMClassifier                       8.41  \n",
            "XGBClassifier                       47.79  \n",
            "RandomForestClassifier              36.71  \n",
            "ExtraTreesClassifier                 7.23  \n",
            "AdaBoostClassifier                  45.98  \n",
            "NuSVC                              276.78  \n",
            "SVC                                161.56  \n",
            "BaggingClassifier                   68.62  \n",
            "LogisticRegression                   1.36  \n",
            "CalibratedClassifierCV              92.67  \n",
            "LinearSVC                           23.13  \n",
            "LinearDiscriminantAnalysis           1.65  \n",
            "RidgeClassifierCV                    1.14  \n",
            "RidgeClassifier                      0.58  \n",
            "KNeighborsClassifier                71.30  \n",
            "SGDClassifier                        1.61  \n",
            "DecisionTreeClassifier              10.68  \n",
            "BernoulliNB                          0.38  \n",
            "Perceptron                           0.52  \n",
            "NearestCentroid                      0.44  \n",
            "ExtraTreeClassifier                  0.31  \n",
            "PassiveAggressiveClassifier          0.55  \n",
            "QuadraticDiscriminantAnalysis        1.09  \n",
            "LabelSpreading                      38.84  \n",
            "LabelPropagation                    21.81  \n",
            "GaussianNB                           0.32  \n",
            "DummyClassifier                      0.23  \n"
          ]
        }
      ]
    },
    {
      "cell_type": "code",
      "source": [
        ""
      ],
      "metadata": {
        "id": "Tmu5qze7mS6z"
      },
      "execution_count": null,
      "outputs": []
    }
  ]
}