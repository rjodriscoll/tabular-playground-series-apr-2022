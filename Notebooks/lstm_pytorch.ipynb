{
 "cells": [
  {
   "cell_type": "code",
   "execution_count": 1,
   "metadata": {},
   "outputs": [],
   "source": [
    "from utility_funcs import get_train_labels_test, split_train_data, scale_and_as_array\n",
    "\n",
    "import numpy as np\n",
    "\n",
    "import torch\n",
    "import torch.nn as nn\n",
    "from torch.utils.data import Dataset, DataLoader\n",
    "from transformers import get_linear_schedule_with_warmup\n",
    "from tqdm import tqdm\n",
    "\n"
   ]
  },
  {
   "cell_type": "code",
   "execution_count": 2,
   "metadata": {},
   "outputs": [],
   "source": [
    "train, labels, test = get_train_labels_test()"
   ]
  },
  {
   "cell_type": "code",
   "execution_count": 3,
   "metadata": {},
   "outputs": [],
   "source": [
    "features = [f for f in train.columns if 'sensor' in f]"
   ]
  },
  {
   "cell_type": "code",
   "execution_count": 4,
   "metadata": {},
   "outputs": [],
   "source": [
    "groups = train[\"sequence\"]\n",
    "train = train.drop([\"subject\", \"step\",'sequence'], axis=1)\n",
    "test = test.drop([ \"subject\", \"step\",'sequence'], axis=1)"
   ]
  },
  {
   "cell_type": "code",
   "execution_count": 5,
   "metadata": {},
   "outputs": [
    {
     "name": "stdout",
     "output_type": "stream",
     "text": [
      "(1402260, 13) (23371,)\n",
      "(155820, 13) (2597,)\n"
     ]
    }
   ],
   "source": [
    "\n",
    "X_train, X_test, y_train, y_test = split_train_data(train, labels)\n",
    "print(X_train.shape, y_train.shape)\n",
    "print(X_test.shape, y_test.shape)\n",
    "test, X_train, X_test, y_train, y_test = scale_and_as_array(train, features, test, X_train, X_test,y_train, y_test)"
   ]
  },
  {
   "cell_type": "code",
   "execution_count": 6,
   "metadata": {},
   "outputs": [],
   "source": [
    "class CustomDataset(Dataset):\n",
    "    def __init__(self,X, sequence_len, y = None, mode = 'train'):\n",
    "        self.data = X\n",
    "        self.target = y\n",
    "        self.sequence_len = sequence_len\n",
    "        self.mode = mode\n",
    "    \n",
    "    def __len__(self):\n",
    "        return (self.data.shape[0]//60) # each sequence is of length 60 \n",
    "    \n",
    "    def __getitem__(self, idx):\n",
    "        out_x = self.data[idx]\n",
    "        if self.mode == 'train':\n",
    "            out_y =  self.target[idx[0]//self.sequence_len]\n",
    "            return out_x, out_y\n",
    "        else: \n",
    "            return out_x\n",
    "\n",
    "\n",
    "def CustomDataloader(dataset,  dataset_num, sequence_len,  input_size, batch_size):\n",
    "    sampler = np.array([list(range(i*sequence_len, (i+1)*sequence_len)) for i in range(dataset_num//sequence_len)])\n",
    "    dataloader = DataLoader(dataset, batch_size, sampler=sampler)\n",
    "    return dataloader"
   ]
  },
  {
   "cell_type": "code",
   "execution_count": 8,
   "metadata": {},
   "outputs": [],
   "source": [
    "seq_length = 60\n",
    "train_dataset = CustomDataset(X_train, sequence_len=seq_length, y=y_train)\n",
    "valid_dataset = CustomDataset(X_test, sequence_len=seq_length, y=y_test)\n",
    "test_dataset = CustomDataset(test, sequence_len=seq_length, mode=\"test\")\n",
    "\n",
    "train_dataloader = CustomDataloader(\n",
    "    train_dataset, X_train.shape[0], seq_length, X_train.shape[1], 512\n",
    ")\n",
    "valid_dataloader = CustomDataloader(\n",
    "    valid_dataset, X_test.shape[0], seq_length, X_test.shape[1], 512\n",
    ")\n",
    "test_dataloader = CustomDataloader(\n",
    "    test_dataset, test.shape[0], seq_length, test.shape[1], 512\n",
    ")\n"
   ]
  },
  {
   "cell_type": "code",
   "execution_count": 9,
   "metadata": {},
   "outputs": [],
   "source": [
    "device = torch.device('cuda:0' if torch.cuda.is_available() else 'cpu')"
   ]
  },
  {
   "cell_type": "code",
   "execution_count": 10,
   "metadata": {},
   "outputs": [],
   "source": [
    "class LSTM(nn.Module):\n",
    "    def __init__(self,input_size,num_classes,hidden_size,num_layers):\n",
    "        super().__init__()\n",
    "        \n",
    "        self.lstm1 = nn.LSTM(input_size,hidden_size,num_layers,batch_first=True,dropout=0,bidirectional=True)\n",
    "\n",
    "        self.final = nn.Sequential(\n",
    "            nn.ReLU(),\n",
    "            nn.Linear(hidden_size*60*2, num_classes),\n",
    "        )\n",
    "            \n",
    "    def forward(self,x):\n",
    "        \n",
    "        out, _ = self.lstm1(x)\n",
    "        \n",
    "        out = out.reshape(out.shape[0],-1)\n",
    "        \n",
    "        out = self.final(out)\n",
    "        return out"
   ]
  },
  {
   "cell_type": "code",
   "execution_count": 11,
   "metadata": {},
   "outputs": [
    {
     "data": {
      "text/plain": [
       "LSTM(\n",
       "  (lstm1): LSTM(13, 128, batch_first=True, bidirectional=True)\n",
       "  (final): Sequential(\n",
       "    (0): ReLU()\n",
       "    (1): Linear(in_features=15360, out_features=1, bias=True)\n",
       "  )\n",
       ")"
      ]
     },
     "execution_count": 11,
     "metadata": {},
     "output_type": "execute_result"
    }
   ],
   "source": [
    "input_size = len(features)\n",
    "hidden_size = 128\n",
    "num_classes = 1\n",
    "learning_rate = 1e-4\n",
    "num_epochs = 100\n",
    "\n",
    "model = LSTM(input_size,num_classes,hidden_size,1)\n",
    "model.to(device)"
   ]
  },
  {
   "cell_type": "code",
   "execution_count": 12,
   "metadata": {},
   "outputs": [],
   "source": [
    "\n",
    "criterion = nn.BCEWithLogitsLoss(reduction='mean')\n",
    "optimizer = torch.optim.Adam(model.parameters(), lr=learning_rate)\n",
    "num_warmup_steps = int(0.1 * num_epochs * len(train_dataloader))\n",
    "num_training_steps = int(num_epochs * len(train_dataloader))\n",
    "scheduler = get_linear_schedule_with_warmup(\n",
    "    optimizer, num_warmup_steps, num_training_steps\n",
    ")"
   ]
  },
  {
   "cell_type": "code",
   "execution_count": 13,
   "metadata": {},
   "outputs": [
    {
     "name": "stderr",
     "output_type": "stream",
     "text": [
      "  1%|          | 1/99 [00:01<03:00,  1.85s/it]"
     ]
    },
    {
     "name": "stdout",
     "output_type": "stream",
     "text": [
      "Epoch: 0, loss: 0.69331 valid loss:  0.69200 \n"
     ]
    },
    {
     "name": "stderr",
     "output_type": "stream",
     "text": [
      "  8%|▊         | 8/99 [00:11<02:08,  1.41s/it]"
     ]
    }
   ],
   "source": [
    "torch.cuda.empty_cache()\n",
    "for epoch in tqdm(range(num_epochs-1)): \n",
    "    model.train()\n",
    "    for trainX, train_y in train_dataloader:\n",
    "        outputs = model(trainX.to(device,dtype=torch.float32)).squeeze(-1)\n",
    "        optimizer.zero_grad()\n",
    "        torch.nn.utils.clip_grad_norm_(model.parameters(), 1)\n",
    "        loss = criterion(outputs, train_y.to(device,dtype=torch.float32))\n",
    "        loss.backward()\n",
    "\n",
    "        optimizer.step()\n",
    "        scheduler.step()\n",
    "\n",
    "    model.eval()\n",
    "    for validX, valid_y in valid_dataloader:\n",
    "        with torch.no_grad():\n",
    "            val_out = model(validX.to(device,dtype=torch.float32)).squeeze(-1)\n",
    "            vall_loss = criterion(val_out,valid_y.to(device,dtype=torch.float32))\n",
    "\n",
    "    if epoch % 10 == 0:\n",
    "        \n",
    "          print(\"Epoch: %d, loss: %1.5f valid loss:  %1.5f \" %(epoch, loss.cpu().item(),vall_loss.cpu().item()))"
   ]
  }
 ],
 "metadata": {
  "interpreter": {
   "hash": "f0328b9ad2d19e2d019a5993aa83b306c7898874533c9685774e41d7ccadc38f"
  },
  "kernelspec": {
   "display_name": "Python 3.9.7 ('tab22': venv)",
   "language": "python",
   "name": "python3"
  },
  "language_info": {
   "codemirror_mode": {
    "name": "ipython",
    "version": 3
   },
   "file_extension": ".py",
   "mimetype": "text/x-python",
   "name": "python",
   "nbconvert_exporter": "python",
   "pygments_lexer": "ipython3",
   "version": "3.9.7"
  },
  "orig_nbformat": 4
 },
 "nbformat": 4,
 "nbformat_minor": 2
}
