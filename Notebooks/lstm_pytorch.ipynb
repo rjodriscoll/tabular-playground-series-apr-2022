{
 "cells": [
  {
   "cell_type": "code",
   "execution_count": 1,
   "metadata": {},
   "outputs": [],
   "source": [
    "from utility_funcs import get_train_labels_test, split_train_data, scale_and_as_array\n",
    "\n",
    "import numpy as np\n",
    "\n",
    "import torch\n",
    "import torch.nn as nn\n",
    "from torch.utils.data import Dataset, DataLoader\n",
    "from transformers import get_linear_schedule_with_warmup\n",
    "from tqdm import tqdm\n",
    "\n",
    "from sklearn.preprocessing import StandardScaler, MinMaxScaler\n"
   ]
  },
  {
   "cell_type": "code",
   "execution_count": 2,
   "metadata": {},
   "outputs": [],
   "source": [
    "train, labels, test = get_train_labels_test()"
   ]
  },
  {
   "cell_type": "code",
   "execution_count": 3,
   "metadata": {},
   "outputs": [],
   "source": [
    "features = [f for f in train.columns if 'sensor' in f]"
   ]
  },
  {
   "cell_type": "code",
   "execution_count": 4,
   "metadata": {},
   "outputs": [],
   "source": [
    "groups = train[\"sequence\"]\n",
    "train = train.drop([\"subject\", \"step\",'sequence'], axis=1)\n",
    "test = test.drop([ \"subject\", \"step\",'sequence'], axis=1)"
   ]
  },
  {
   "cell_type": "code",
   "execution_count": 5,
   "metadata": {},
   "outputs": [],
   "source": [
    "scaler = StandardScaler()\n",
    "scaler = scaler.fit(train[features])\n",
    "\n"
   ]
  },
  {
   "cell_type": "code",
   "execution_count": 6,
   "metadata": {},
   "outputs": [
    {
     "name": "stdout",
     "output_type": "stream",
     "text": [
      "(1402260, 13) (23371, 2)\n",
      "(155820, 13) (2597, 2)\n"
     ]
    }
   ],
   "source": [
    "\n",
    "X_train, X_valid, y_train, y_valid = split_train_data(train, labels)\n",
    "print(X_train.shape, y_train.shape)\n",
    "print(X_valid.shape, y_valid.shape)\n",
    "\n",
    "X_train = scale_and_as_array(X_train, features, scaler, scale_data = True)\n",
    "X_valid = scale_and_as_array(X_valid,  features,scaler, scale_data = True)\n",
    "X_test = scale_and_as_array(test,  features,scaler, scale_data = True)"
   ]
  },
  {
   "cell_type": "code",
   "execution_count": 7,
   "metadata": {},
   "outputs": [],
   "source": [
    "class TrainDataset(torch.utils.data.Dataset):\n",
    "    def __init__(self, X, y, seq_num):\n",
    "        super().__init__()\n",
    "        self.X = X\n",
    "        self.y = y\n",
    "        self.seq_num = seq_num\n",
    "    def __len__(self):\n",
    "        return len(self.y)\n",
    "    def __getitem__(self, idx):\n",
    "        return self.X[idx], self.y[idx[0]//self.seq_num]\n",
    "\n",
    "\n",
    "\n",
    "class TestDataset(torch.utils.data.Dataset):\n",
    "    def __init__(self, X, seq_num):\n",
    "        super().__init__()\n",
    "        self.X = X\n",
    "        self.seq_num = seq_num\n",
    "    def __len__(self):\n",
    "        return len(self.X) // 60\n",
    "    def __getitem__(self, idx):\n",
    "        return self.X[idx]\n",
    "\n",
    "\n",
    "\n",
    "def prepare_data(data, data_labels, seq_num, data_num, mode='train'):\n",
    "    if data_labels is not None:\n",
    "        data_labels = data_labels['state'].values\n",
    "    \n",
    "    sampler = np.array([list(range(i * seq_num, (i + 1) * seq_num)) for i in range(data_num // seq_num)])\n",
    "    if mode == 'train':\n",
    "        dataset = TrainDataset(data, data_labels, seq_num)\n",
    "    else:\n",
    "        dataset = TestDataset(data, seq_num)\n",
    "\n",
    "    dataloader = DataLoader(dataset, batch_size=64, sampler=sampler)\n",
    "    return dataloader\n",
    "\n",
    "train_dataloader = prepare_data(X_train, y_train, 60, X_train.shape[0])\n",
    "valid_dataloader = prepare_data(X_valid, y_valid, 60, X_valid.shape[0])\n"
   ]
  },
  {
   "cell_type": "code",
   "execution_count": 8,
   "metadata": {},
   "outputs": [],
   "source": [
    "\n",
    "device = torch.device('cuda:0' if torch.cuda.is_available() else 'cpu')"
   ]
  },
  {
   "cell_type": "code",
   "execution_count": 9,
   "metadata": {},
   "outputs": [],
   "source": [
    "class LSTM(nn.Module):\n",
    "    def __init__(self,input_size,num_classes,hidden_size,num_layers):\n",
    "        super().__init__()\n",
    "        \n",
    "        self.lstm1 = nn.LSTM(input_size,hidden_size,num_layers,batch_first=True,dropout=0,bidirectional=True)\n",
    "\n",
    "        self.final = nn.Sequential(\n",
    "            nn.ReLU(),\n",
    "            nn.Linear(hidden_size*60*2, num_classes),\n",
    "        )\n",
    "            \n",
    "    def forward(self,x):\n",
    "        \n",
    "        out, _ = self.lstm1(x)\n",
    "        \n",
    "        out = out.reshape(out.shape[0],-1)\n",
    "        \n",
    "        out = self.final(out)\n",
    "        return out"
   ]
  },
  {
   "cell_type": "code",
   "execution_count": 10,
   "metadata": {},
   "outputs": [
    {
     "data": {
      "text/plain": [
       "LSTM(\n",
       "  (lstm1): LSTM(13, 128, batch_first=True, bidirectional=True)\n",
       "  (final): Sequential(\n",
       "    (0): ReLU()\n",
       "    (1): Linear(in_features=15360, out_features=1, bias=True)\n",
       "  )\n",
       ")"
      ]
     },
     "execution_count": 10,
     "metadata": {},
     "output_type": "execute_result"
    }
   ],
   "source": [
    "input_size = len(features)\n",
    "hidden_size = 128\n",
    "num_classes = 1\n",
    "learning_rate = 1e-4\n",
    "num_epochs = 100\n",
    "\n",
    "model = LSTM(input_size,num_classes,hidden_size,1)\n",
    "model.to(device)"
   ]
  },
  {
   "cell_type": "code",
   "execution_count": 11,
   "metadata": {},
   "outputs": [],
   "source": [
    "\n",
    "criterion = nn.MSELoss() # seems to preform better than logits\n",
    "optimizer = torch.optim.Adam(model.parameters(), lr=learning_rate)\n",
    "num_warmup_steps = int(0.1 * num_epochs * len(train_dataloader))\n",
    "num_training_steps = int(num_epochs * len(train_dataloader))\n",
    "scheduler = get_linear_schedule_with_warmup(\n",
    "    optimizer, num_warmup_steps, num_training_steps\n",
    ")"
   ]
  },
  {
   "cell_type": "code",
   "execution_count": 12,
   "metadata": {},
   "outputs": [
    {
     "name": "stderr",
     "output_type": "stream",
     "text": [
      "  1%|          | 1/99 [00:06<10:58,  6.72s/it]"
     ]
    },
    {
     "name": "stdout",
     "output_type": "stream",
     "text": [
      "Epoch: 0, loss: 0.69522 valid loss:  0.69336 \n"
     ]
    },
    {
     "name": "stderr",
     "output_type": "stream",
     "text": [
      " 11%|█         | 11/99 [01:12<10:16,  7.00s/it]"
     ]
    },
    {
     "name": "stdout",
     "output_type": "stream",
     "text": [
      "Epoch: 10, loss: 0.41444 valid loss:  0.40220 \n"
     ]
    },
    {
     "name": "stderr",
     "output_type": "stream",
     "text": [
      " 21%|██        | 21/99 [02:19<08:35,  6.61s/it]"
     ]
    },
    {
     "name": "stdout",
     "output_type": "stream",
     "text": [
      "Epoch: 20, loss: 0.40689 valid loss:  0.28117 \n"
     ]
    },
    {
     "name": "stderr",
     "output_type": "stream",
     "text": [
      " 31%|███▏      | 31/99 [03:24<07:27,  6.58s/it]"
     ]
    },
    {
     "name": "stdout",
     "output_type": "stream",
     "text": [
      "Epoch: 30, loss: 0.28936 valid loss:  0.28125 \n"
     ]
    },
    {
     "name": "stderr",
     "output_type": "stream",
     "text": [
      " 41%|████▏     | 41/99 [04:31<06:34,  6.80s/it]"
     ]
    },
    {
     "name": "stdout",
     "output_type": "stream",
     "text": [
      "Epoch: 40, loss: 0.23694 valid loss:  0.22017 \n"
     ]
    },
    {
     "name": "stderr",
     "output_type": "stream",
     "text": [
      " 42%|████▏     | 42/99 [04:39<06:44,  7.09s/it]"
     ]
    }
   ],
   "source": [
    "torch.cuda.empty_cache()\n",
    "for epoch in tqdm(range(num_epochs-1)): \n",
    "    model.train()\n",
    "    for trainX, train_y in train_dataloader:\n",
    "        outputs = model(trainX.to(device,dtype=torch.float32)).squeeze(-1)\n",
    "        optimizer.zero_grad()\n",
    "        torch.nn.utils.clip_grad_norm_(model.parameters(), 1)\n",
    "        loss = criterion(outputs, train_y.to(device,dtype=torch.float32))\n",
    "        loss.backward()\n",
    "\n",
    "        optimizer.step()\n",
    "        scheduler.step()\n",
    "\n",
    "    model.eval()\n",
    "    for validX, valid_y in valid_dataloader:\n",
    "        with torch.no_grad():\n",
    "            val_out = model(validX.to(device,dtype=torch.float32)).squeeze(-1)\n",
    "            vall_loss = criterion(val_out,valid_y.to(device,dtype=torch.float32))\n",
    "\n",
    "    if epoch % 10 == 0:\n",
    "        \n",
    "          print(\"Epoch: %d, loss: %1.5f valid loss:  %1.5f \" %(epoch, loss.cpu().item(),vall_loss.cpu().item()))"
   ]
  },
  {
   "cell_type": "code",
   "execution_count": null,
   "metadata": {},
   "outputs": [
    {
     "ename": "KeyError",
     "evalue": "\"None of [Int64Index([ 0,  1,  2,  3,  4,  5,  6,  7,  8,  9, 10, 11, 12, 13, 14, 15, 16,\\n            17, 18, 19, 20, 21, 22, 23, 24, 25, 26, 27, 28, 29, 30, 31, 32, 33,\\n            34, 35, 36, 37, 38, 39, 40, 41, 42, 43, 44, 45, 46, 47, 48, 49, 50,\\n            51, 52, 53, 54, 55, 56, 57, 58, 59],\\n           dtype='int64')] are in the [columns]\"",
     "output_type": "error",
     "traceback": [
      "\u001b[1;31m---------------------------------------------------------------------------\u001b[0m",
      "\u001b[1;31mKeyError\u001b[0m                                  Traceback (most recent call last)",
      "\u001b[1;32mg:\\My Drive\\Kaggle\\tabular-playground-series-apr-2022\\Notebooks\\lstm_pytorch.ipynb Cell 13'\u001b[0m in \u001b[0;36m<cell line: 3>\u001b[1;34m()\u001b[0m\n\u001b[0;32m      <a href='vscode-notebook-cell:/g%3A/My%20Drive/Kaggle/tabular-playground-series-apr-2022/Notebooks/lstm_pytorch.ipynb#ch0000012?line=0'>1</a>\u001b[0m predictions \u001b[39m=\u001b[39m []\n\u001b[1;32m----> <a href='vscode-notebook-cell:/g%3A/My%20Drive/Kaggle/tabular-playground-series-apr-2022/Notebooks/lstm_pytorch.ipynb#ch0000012?line=2'>3</a>\u001b[0m \u001b[39mfor\u001b[39;00m testX \u001b[39min\u001b[39;00m test_dataloader:\n\u001b[0;32m      <a href='vscode-notebook-cell:/g%3A/My%20Drive/Kaggle/tabular-playground-series-apr-2022/Notebooks/lstm_pytorch.ipynb#ch0000012?line=3'>4</a>\u001b[0m     \u001b[39mwith\u001b[39;00m torch\u001b[39m.\u001b[39mno_grad():\n\u001b[0;32m      <a href='vscode-notebook-cell:/g%3A/My%20Drive/Kaggle/tabular-playground-series-apr-2022/Notebooks/lstm_pytorch.ipynb#ch0000012?line=4'>5</a>\u001b[0m         model\u001b[39m.\u001b[39meval()\n",
      "File \u001b[1;32m~\\AppData\\Local\\Programs\\Python\\Python39\\lib\\site-packages\\torch\\utils\\data\\dataloader.py:530\u001b[0m, in \u001b[0;36m_BaseDataLoaderIter.__next__\u001b[1;34m(self)\u001b[0m\n\u001b[0;32m    <a href='file:///c%3A/Users/ruair/AppData/Local/Programs/Python/Python39/lib/site-packages/torch/utils/data/dataloader.py?line=527'>528</a>\u001b[0m \u001b[39mif\u001b[39;00m \u001b[39mself\u001b[39m\u001b[39m.\u001b[39m_sampler_iter \u001b[39mis\u001b[39;00m \u001b[39mNone\u001b[39;00m:\n\u001b[0;32m    <a href='file:///c%3A/Users/ruair/AppData/Local/Programs/Python/Python39/lib/site-packages/torch/utils/data/dataloader.py?line=528'>529</a>\u001b[0m     \u001b[39mself\u001b[39m\u001b[39m.\u001b[39m_reset()\n\u001b[1;32m--> <a href='file:///c%3A/Users/ruair/AppData/Local/Programs/Python/Python39/lib/site-packages/torch/utils/data/dataloader.py?line=529'>530</a>\u001b[0m data \u001b[39m=\u001b[39m \u001b[39mself\u001b[39;49m\u001b[39m.\u001b[39;49m_next_data()\n\u001b[0;32m    <a href='file:///c%3A/Users/ruair/AppData/Local/Programs/Python/Python39/lib/site-packages/torch/utils/data/dataloader.py?line=530'>531</a>\u001b[0m \u001b[39mself\u001b[39m\u001b[39m.\u001b[39m_num_yielded \u001b[39m+\u001b[39m\u001b[39m=\u001b[39m \u001b[39m1\u001b[39m\n\u001b[0;32m    <a href='file:///c%3A/Users/ruair/AppData/Local/Programs/Python/Python39/lib/site-packages/torch/utils/data/dataloader.py?line=531'>532</a>\u001b[0m \u001b[39mif\u001b[39;00m \u001b[39mself\u001b[39m\u001b[39m.\u001b[39m_dataset_kind \u001b[39m==\u001b[39m _DatasetKind\u001b[39m.\u001b[39mIterable \u001b[39mand\u001b[39;00m \\\n\u001b[0;32m    <a href='file:///c%3A/Users/ruair/AppData/Local/Programs/Python/Python39/lib/site-packages/torch/utils/data/dataloader.py?line=532'>533</a>\u001b[0m         \u001b[39mself\u001b[39m\u001b[39m.\u001b[39m_IterableDataset_len_called \u001b[39mis\u001b[39;00m \u001b[39mnot\u001b[39;00m \u001b[39mNone\u001b[39;00m \u001b[39mand\u001b[39;00m \\\n\u001b[0;32m    <a href='file:///c%3A/Users/ruair/AppData/Local/Programs/Python/Python39/lib/site-packages/torch/utils/data/dataloader.py?line=533'>534</a>\u001b[0m         \u001b[39mself\u001b[39m\u001b[39m.\u001b[39m_num_yielded \u001b[39m>\u001b[39m \u001b[39mself\u001b[39m\u001b[39m.\u001b[39m_IterableDataset_len_called:\n",
      "File \u001b[1;32m~\\AppData\\Local\\Programs\\Python\\Python39\\lib\\site-packages\\torch\\utils\\data\\dataloader.py:570\u001b[0m, in \u001b[0;36m_SingleProcessDataLoaderIter._next_data\u001b[1;34m(self)\u001b[0m\n\u001b[0;32m    <a href='file:///c%3A/Users/ruair/AppData/Local/Programs/Python/Python39/lib/site-packages/torch/utils/data/dataloader.py?line=567'>568</a>\u001b[0m \u001b[39mdef\u001b[39;00m \u001b[39m_next_data\u001b[39m(\u001b[39mself\u001b[39m):\n\u001b[0;32m    <a href='file:///c%3A/Users/ruair/AppData/Local/Programs/Python/Python39/lib/site-packages/torch/utils/data/dataloader.py?line=568'>569</a>\u001b[0m     index \u001b[39m=\u001b[39m \u001b[39mself\u001b[39m\u001b[39m.\u001b[39m_next_index()  \u001b[39m# may raise StopIteration\u001b[39;00m\n\u001b[1;32m--> <a href='file:///c%3A/Users/ruair/AppData/Local/Programs/Python/Python39/lib/site-packages/torch/utils/data/dataloader.py?line=569'>570</a>\u001b[0m     data \u001b[39m=\u001b[39m \u001b[39mself\u001b[39;49m\u001b[39m.\u001b[39;49m_dataset_fetcher\u001b[39m.\u001b[39;49mfetch(index)  \u001b[39m# may raise StopIteration\u001b[39;00m\n\u001b[0;32m    <a href='file:///c%3A/Users/ruair/AppData/Local/Programs/Python/Python39/lib/site-packages/torch/utils/data/dataloader.py?line=570'>571</a>\u001b[0m     \u001b[39mif\u001b[39;00m \u001b[39mself\u001b[39m\u001b[39m.\u001b[39m_pin_memory:\n\u001b[0;32m    <a href='file:///c%3A/Users/ruair/AppData/Local/Programs/Python/Python39/lib/site-packages/torch/utils/data/dataloader.py?line=571'>572</a>\u001b[0m         data \u001b[39m=\u001b[39m _utils\u001b[39m.\u001b[39mpin_memory\u001b[39m.\u001b[39mpin_memory(data)\n",
      "File \u001b[1;32m~\\AppData\\Local\\Programs\\Python\\Python39\\lib\\site-packages\\torch\\utils\\data\\_utils\\fetch.py:49\u001b[0m, in \u001b[0;36m_MapDatasetFetcher.fetch\u001b[1;34m(self, possibly_batched_index)\u001b[0m\n\u001b[0;32m     <a href='file:///c%3A/Users/ruair/AppData/Local/Programs/Python/Python39/lib/site-packages/torch/utils/data/_utils/fetch.py?line=46'>47</a>\u001b[0m \u001b[39mdef\u001b[39;00m \u001b[39mfetch\u001b[39m(\u001b[39mself\u001b[39m, possibly_batched_index):\n\u001b[0;32m     <a href='file:///c%3A/Users/ruair/AppData/Local/Programs/Python/Python39/lib/site-packages/torch/utils/data/_utils/fetch.py?line=47'>48</a>\u001b[0m     \u001b[39mif\u001b[39;00m \u001b[39mself\u001b[39m\u001b[39m.\u001b[39mauto_collation:\n\u001b[1;32m---> <a href='file:///c%3A/Users/ruair/AppData/Local/Programs/Python/Python39/lib/site-packages/torch/utils/data/_utils/fetch.py?line=48'>49</a>\u001b[0m         data \u001b[39m=\u001b[39m [\u001b[39mself\u001b[39m\u001b[39m.\u001b[39mdataset[idx] \u001b[39mfor\u001b[39;00m idx \u001b[39min\u001b[39;00m possibly_batched_index]\n\u001b[0;32m     <a href='file:///c%3A/Users/ruair/AppData/Local/Programs/Python/Python39/lib/site-packages/torch/utils/data/_utils/fetch.py?line=49'>50</a>\u001b[0m     \u001b[39melse\u001b[39;00m:\n\u001b[0;32m     <a href='file:///c%3A/Users/ruair/AppData/Local/Programs/Python/Python39/lib/site-packages/torch/utils/data/_utils/fetch.py?line=50'>51</a>\u001b[0m         data \u001b[39m=\u001b[39m \u001b[39mself\u001b[39m\u001b[39m.\u001b[39mdataset[possibly_batched_index]\n",
      "File \u001b[1;32m~\\AppData\\Local\\Programs\\Python\\Python39\\lib\\site-packages\\torch\\utils\\data\\_utils\\fetch.py:49\u001b[0m, in \u001b[0;36m<listcomp>\u001b[1;34m(.0)\u001b[0m\n\u001b[0;32m     <a href='file:///c%3A/Users/ruair/AppData/Local/Programs/Python/Python39/lib/site-packages/torch/utils/data/_utils/fetch.py?line=46'>47</a>\u001b[0m \u001b[39mdef\u001b[39;00m \u001b[39mfetch\u001b[39m(\u001b[39mself\u001b[39m, possibly_batched_index):\n\u001b[0;32m     <a href='file:///c%3A/Users/ruair/AppData/Local/Programs/Python/Python39/lib/site-packages/torch/utils/data/_utils/fetch.py?line=47'>48</a>\u001b[0m     \u001b[39mif\u001b[39;00m \u001b[39mself\u001b[39m\u001b[39m.\u001b[39mauto_collation:\n\u001b[1;32m---> <a href='file:///c%3A/Users/ruair/AppData/Local/Programs/Python/Python39/lib/site-packages/torch/utils/data/_utils/fetch.py?line=48'>49</a>\u001b[0m         data \u001b[39m=\u001b[39m [\u001b[39mself\u001b[39;49m\u001b[39m.\u001b[39;49mdataset[idx] \u001b[39mfor\u001b[39;00m idx \u001b[39min\u001b[39;00m possibly_batched_index]\n\u001b[0;32m     <a href='file:///c%3A/Users/ruair/AppData/Local/Programs/Python/Python39/lib/site-packages/torch/utils/data/_utils/fetch.py?line=49'>50</a>\u001b[0m     \u001b[39melse\u001b[39;00m:\n\u001b[0;32m     <a href='file:///c%3A/Users/ruair/AppData/Local/Programs/Python/Python39/lib/site-packages/torch/utils/data/_utils/fetch.py?line=50'>51</a>\u001b[0m         data \u001b[39m=\u001b[39m \u001b[39mself\u001b[39m\u001b[39m.\u001b[39mdataset[possibly_batched_index]\n",
      "\u001b[1;32mg:\\My Drive\\Kaggle\\tabular-playground-series-apr-2022\\Notebooks\\lstm_pytorch.ipynb Cell 6'\u001b[0m in \u001b[0;36mCustomDataset.__getitem__\u001b[1;34m(self, idx)\u001b[0m\n\u001b[0;32m     <a href='vscode-notebook-cell:/g%3A/My%20Drive/Kaggle/tabular-playground-series-apr-2022/Notebooks/lstm_pytorch.ipynb#ch0000005?line=10'>11</a>\u001b[0m \u001b[39mdef\u001b[39;00m \u001b[39m__getitem__\u001b[39m(\u001b[39mself\u001b[39m, idx):\n\u001b[1;32m---> <a href='vscode-notebook-cell:/g%3A/My%20Drive/Kaggle/tabular-playground-series-apr-2022/Notebooks/lstm_pytorch.ipynb#ch0000005?line=11'>12</a>\u001b[0m     out_x \u001b[39m=\u001b[39m \u001b[39mself\u001b[39;49m\u001b[39m.\u001b[39;49mdata[idx]\n\u001b[0;32m     <a href='vscode-notebook-cell:/g%3A/My%20Drive/Kaggle/tabular-playground-series-apr-2022/Notebooks/lstm_pytorch.ipynb#ch0000005?line=12'>13</a>\u001b[0m     \u001b[39mif\u001b[39;00m \u001b[39mself\u001b[39m\u001b[39m.\u001b[39mmode \u001b[39m==\u001b[39m \u001b[39m'\u001b[39m\u001b[39mtrain\u001b[39m\u001b[39m'\u001b[39m:\n\u001b[0;32m     <a href='vscode-notebook-cell:/g%3A/My%20Drive/Kaggle/tabular-playground-series-apr-2022/Notebooks/lstm_pytorch.ipynb#ch0000005?line=13'>14</a>\u001b[0m         out_y \u001b[39m=\u001b[39m  \u001b[39mself\u001b[39m\u001b[39m.\u001b[39mtarget[idx[\u001b[39m0\u001b[39m]\u001b[39m/\u001b[39m\u001b[39m/\u001b[39m\u001b[39mself\u001b[39m\u001b[39m.\u001b[39msequence_len]\n",
      "File \u001b[1;32m~\\AppData\\Local\\Programs\\Python\\Python39\\lib\\site-packages\\pandas\\core\\frame.py:3511\u001b[0m, in \u001b[0;36mDataFrame.__getitem__\u001b[1;34m(self, key)\u001b[0m\n\u001b[0;32m   <a href='file:///c%3A/Users/ruair/AppData/Local/Programs/Python/Python39/lib/site-packages/pandas/core/frame.py?line=3508'>3509</a>\u001b[0m     \u001b[39mif\u001b[39;00m is_iterator(key):\n\u001b[0;32m   <a href='file:///c%3A/Users/ruair/AppData/Local/Programs/Python/Python39/lib/site-packages/pandas/core/frame.py?line=3509'>3510</a>\u001b[0m         key \u001b[39m=\u001b[39m \u001b[39mlist\u001b[39m(key)\n\u001b[1;32m-> <a href='file:///c%3A/Users/ruair/AppData/Local/Programs/Python/Python39/lib/site-packages/pandas/core/frame.py?line=3510'>3511</a>\u001b[0m     indexer \u001b[39m=\u001b[39m \u001b[39mself\u001b[39;49m\u001b[39m.\u001b[39;49mcolumns\u001b[39m.\u001b[39;49m_get_indexer_strict(key, \u001b[39m\"\u001b[39;49m\u001b[39mcolumns\u001b[39;49m\u001b[39m\"\u001b[39;49m)[\u001b[39m1\u001b[39m]\n\u001b[0;32m   <a href='file:///c%3A/Users/ruair/AppData/Local/Programs/Python/Python39/lib/site-packages/pandas/core/frame.py?line=3512'>3513</a>\u001b[0m \u001b[39m# take() does not accept boolean indexers\u001b[39;00m\n\u001b[0;32m   <a href='file:///c%3A/Users/ruair/AppData/Local/Programs/Python/Python39/lib/site-packages/pandas/core/frame.py?line=3513'>3514</a>\u001b[0m \u001b[39mif\u001b[39;00m \u001b[39mgetattr\u001b[39m(indexer, \u001b[39m\"\u001b[39m\u001b[39mdtype\u001b[39m\u001b[39m\"\u001b[39m, \u001b[39mNone\u001b[39;00m) \u001b[39m==\u001b[39m \u001b[39mbool\u001b[39m:\n",
      "File \u001b[1;32m~\\AppData\\Local\\Programs\\Python\\Python39\\lib\\site-packages\\pandas\\core\\indexes\\base.py:5782\u001b[0m, in \u001b[0;36mIndex._get_indexer_strict\u001b[1;34m(self, key, axis_name)\u001b[0m\n\u001b[0;32m   <a href='file:///c%3A/Users/ruair/AppData/Local/Programs/Python/Python39/lib/site-packages/pandas/core/indexes/base.py?line=5778'>5779</a>\u001b[0m \u001b[39melse\u001b[39;00m:\n\u001b[0;32m   <a href='file:///c%3A/Users/ruair/AppData/Local/Programs/Python/Python39/lib/site-packages/pandas/core/indexes/base.py?line=5779'>5780</a>\u001b[0m     keyarr, indexer, new_indexer \u001b[39m=\u001b[39m \u001b[39mself\u001b[39m\u001b[39m.\u001b[39m_reindex_non_unique(keyarr)\n\u001b[1;32m-> <a href='file:///c%3A/Users/ruair/AppData/Local/Programs/Python/Python39/lib/site-packages/pandas/core/indexes/base.py?line=5781'>5782</a>\u001b[0m \u001b[39mself\u001b[39;49m\u001b[39m.\u001b[39;49m_raise_if_missing(keyarr, indexer, axis_name)\n\u001b[0;32m   <a href='file:///c%3A/Users/ruair/AppData/Local/Programs/Python/Python39/lib/site-packages/pandas/core/indexes/base.py?line=5783'>5784</a>\u001b[0m keyarr \u001b[39m=\u001b[39m \u001b[39mself\u001b[39m\u001b[39m.\u001b[39mtake(indexer)\n\u001b[0;32m   <a href='file:///c%3A/Users/ruair/AppData/Local/Programs/Python/Python39/lib/site-packages/pandas/core/indexes/base.py?line=5784'>5785</a>\u001b[0m \u001b[39mif\u001b[39;00m \u001b[39misinstance\u001b[39m(key, Index):\n\u001b[0;32m   <a href='file:///c%3A/Users/ruair/AppData/Local/Programs/Python/Python39/lib/site-packages/pandas/core/indexes/base.py?line=5785'>5786</a>\u001b[0m     \u001b[39m# GH 42790 - Preserve name from an Index\u001b[39;00m\n",
      "File \u001b[1;32m~\\AppData\\Local\\Programs\\Python\\Python39\\lib\\site-packages\\pandas\\core\\indexes\\base.py:5842\u001b[0m, in \u001b[0;36mIndex._raise_if_missing\u001b[1;34m(self, key, indexer, axis_name)\u001b[0m\n\u001b[0;32m   <a href='file:///c%3A/Users/ruair/AppData/Local/Programs/Python/Python39/lib/site-packages/pandas/core/indexes/base.py?line=5839'>5840</a>\u001b[0m     \u001b[39mif\u001b[39;00m use_interval_msg:\n\u001b[0;32m   <a href='file:///c%3A/Users/ruair/AppData/Local/Programs/Python/Python39/lib/site-packages/pandas/core/indexes/base.py?line=5840'>5841</a>\u001b[0m         key \u001b[39m=\u001b[39m \u001b[39mlist\u001b[39m(key)\n\u001b[1;32m-> <a href='file:///c%3A/Users/ruair/AppData/Local/Programs/Python/Python39/lib/site-packages/pandas/core/indexes/base.py?line=5841'>5842</a>\u001b[0m     \u001b[39mraise\u001b[39;00m \u001b[39mKeyError\u001b[39;00m(\u001b[39mf\u001b[39m\u001b[39m\"\u001b[39m\u001b[39mNone of [\u001b[39m\u001b[39m{\u001b[39;00mkey\u001b[39m}\u001b[39;00m\u001b[39m] are in the [\u001b[39m\u001b[39m{\u001b[39;00maxis_name\u001b[39m}\u001b[39;00m\u001b[39m]\u001b[39m\u001b[39m\"\u001b[39m)\n\u001b[0;32m   <a href='file:///c%3A/Users/ruair/AppData/Local/Programs/Python/Python39/lib/site-packages/pandas/core/indexes/base.py?line=5843'>5844</a>\u001b[0m not_found \u001b[39m=\u001b[39m \u001b[39mlist\u001b[39m(ensure_index(key)[missing_mask\u001b[39m.\u001b[39mnonzero()[\u001b[39m0\u001b[39m]]\u001b[39m.\u001b[39munique())\n\u001b[0;32m   <a href='file:///c%3A/Users/ruair/AppData/Local/Programs/Python/Python39/lib/site-packages/pandas/core/indexes/base.py?line=5844'>5845</a>\u001b[0m \u001b[39mraise\u001b[39;00m \u001b[39mKeyError\u001b[39;00m(\u001b[39mf\u001b[39m\u001b[39m\"\u001b[39m\u001b[39m{\u001b[39;00mnot_found\u001b[39m}\u001b[39;00m\u001b[39m not in index\u001b[39m\u001b[39m\"\u001b[39m)\n",
      "\u001b[1;31mKeyError\u001b[0m: \"None of [Int64Index([ 0,  1,  2,  3,  4,  5,  6,  7,  8,  9, 10, 11, 12, 13, 14, 15, 16,\\n            17, 18, 19, 20, 21, 22, 23, 24, 25, 26, 27, 28, 29, 30, 31, 32, 33,\\n            34, 35, 36, 37, 38, 39, 40, 41, 42, 43, 44, 45, 46, 47, 48, 49, 50,\\n            51, 52, 53, 54, 55, 56, 57, 58, 59],\\n           dtype='int64')] are in the [columns]\""
     ]
    }
   ],
   "source": [
    "test_loader = prepare_data(X_test, None, 60, X_test.shape[0], 'test')"
   ]
  },
  {
   "cell_type": "code",
   "execution_count": 25,
   "metadata": {},
   "outputs": [
    {
     "ename": "AttributeError",
     "evalue": "'list' object has no attribute 'to'",
     "output_type": "error",
     "traceback": [
      "\u001b[1;31m---------------------------------------------------------------------------\u001b[0m",
      "\u001b[1;31mAttributeError\u001b[0m                            Traceback (most recent call last)",
      "\u001b[1;32mg:\\My Drive\\Kaggle\\tabular-playground-series-apr-2022\\Notebooks\\lstm_pytorch.ipynb Cell 15'\u001b[0m in \u001b[0;36m<cell line: 18>\u001b[1;34m()\u001b[0m\n\u001b[0;32m     <a href='vscode-notebook-cell:/g%3A/My%20Drive/Kaggle/tabular-playground-series-apr-2022/Notebooks/lstm_pytorch.ipynb#ch0000016?line=13'>14</a>\u001b[0m     preds \u001b[39m=\u001b[39m np\u001b[39m.\u001b[39mconcatenate(preds, \u001b[39m0\u001b[39m)\n\u001b[0;32m     <a href='vscode-notebook-cell:/g%3A/My%20Drive/Kaggle/tabular-playground-series-apr-2022/Notebooks/lstm_pytorch.ipynb#ch0000016?line=15'>16</a>\u001b[0m     \u001b[39mreturn\u001b[39;00m preds\n\u001b[1;32m---> <a href='vscode-notebook-cell:/g%3A/My%20Drive/Kaggle/tabular-playground-series-apr-2022/Notebooks/lstm_pytorch.ipynb#ch0000016?line=17'>18</a>\u001b[0m predict(model, valid_dataloader)\n",
      "\u001b[1;32mg:\\My Drive\\Kaggle\\tabular-playground-series-apr-2022\\Notebooks\\lstm_pytorch.ipynb Cell 15'\u001b[0m in \u001b[0;36mpredict\u001b[1;34m(model, loader)\u001b[0m\n\u001b[0;32m      <a href='vscode-notebook-cell:/g%3A/My%20Drive/Kaggle/tabular-playground-series-apr-2022/Notebooks/lstm_pytorch.ipynb#ch0000016?line=7'>8</a>\u001b[0m \u001b[39mwith\u001b[39;00m torch\u001b[39m.\u001b[39mno_grad():\n\u001b[0;32m      <a href='vscode-notebook-cell:/g%3A/My%20Drive/Kaggle/tabular-playground-series-apr-2022/Notebooks/lstm_pytorch.ipynb#ch0000016?line=8'>9</a>\u001b[0m     \u001b[39mfor\u001b[39;00m data \u001b[39min\u001b[39;00m loader:\n\u001b[1;32m---> <a href='vscode-notebook-cell:/g%3A/My%20Drive/Kaggle/tabular-playground-series-apr-2022/Notebooks/lstm_pytorch.ipynb#ch0000016?line=9'>10</a>\u001b[0m         data \u001b[39m=\u001b[39m data\u001b[39m.\u001b[39;49mto(device)\n\u001b[0;32m     <a href='vscode-notebook-cell:/g%3A/My%20Drive/Kaggle/tabular-playground-series-apr-2022/Notebooks/lstm_pytorch.ipynb#ch0000016?line=10'>11</a>\u001b[0m         pred \u001b[39m=\u001b[39m model(data\u001b[39m.\u001b[39mfloat())\n\u001b[0;32m     <a href='vscode-notebook-cell:/g%3A/My%20Drive/Kaggle/tabular-playground-series-apr-2022/Notebooks/lstm_pytorch.ipynb#ch0000016?line=11'>12</a>\u001b[0m         preds\u001b[39m.\u001b[39mappend(pred\u001b[39m.\u001b[39mdetach()\u001b[39m.\u001b[39mcpu()\u001b[39m.\u001b[39mnumpy())\n",
      "\u001b[1;31mAttributeError\u001b[0m: 'list' object has no attribute 'to'"
     ]
    }
   ],
   "source": [
    "def predict(\n",
    "    model,\n",
    "    loader,\n",
    "):\n",
    "    model.eval()\n",
    "    \n",
    "    preds = []\n",
    "    with torch.no_grad():\n",
    "        for data in loader:\n",
    "            data = data.to(device)\n",
    "            pred = model(data.float())\n",
    "            preds.append(pred.detach().cpu().numpy())\n",
    "\n",
    "    preds = np.concatenate(preds, 0)\n",
    "    \n",
    "    return preds\n",
    "\n",
    "predict(model, valid_dataloader)"
   ]
  },
  {
   "cell_type": "code",
   "execution_count": null,
   "metadata": {},
   "outputs": [],
   "source": []
  }
 ],
 "metadata": {
  "interpreter": {
   "hash": "f0328b9ad2d19e2d019a5993aa83b306c7898874533c9685774e41d7ccadc38f"
  },
  "kernelspec": {
   "display_name": "Python 3.9.7 ('tab22': venv)",
   "language": "python",
   "name": "python3"
  },
  "language_info": {
   "codemirror_mode": {
    "name": "ipython",
    "version": 3
   },
   "file_extension": ".py",
   "mimetype": "text/x-python",
   "name": "python",
   "nbconvert_exporter": "python",
   "pygments_lexer": "ipython3",
   "version": "3.9.7"
  },
  "orig_nbformat": 4
 },
 "nbformat": 4,
 "nbformat_minor": 2
}
