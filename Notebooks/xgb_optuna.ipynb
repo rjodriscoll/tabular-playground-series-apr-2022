{
 "cells": [
  {
   "cell_type": "code",
   "execution_count": 1,
   "metadata": {},
   "outputs": [
    {
     "name": "stderr",
     "output_type": "stream",
     "text": [
      "g:\\My Drive\\Kaggle\\tabular-playground-series-apr-2022\\tab22\\lib\\site-packages\\xgboost\\compat.py:36: FutureWarning: pandas.Int64Index is deprecated and will be removed from pandas in a future version. Use pandas.Index with the appropriate dtype instead.\n",
      "  from pandas import MultiIndex, Int64Index\n",
      "g:\\My Drive\\Kaggle\\tabular-playground-series-apr-2022\\tab22\\lib\\site-packages\\tqdm\\auto.py:22: TqdmWarning: IProgress not found. Please update jupyter and ipywidgets. See https://ipywidgets.readthedocs.io/en/stable/user_install.html\n",
      "  from .autonotebook import tqdm as notebook_tqdm\n"
     ]
    }
   ],
   "source": [
    "\n",
    "\n",
    "import pandas as pd\n",
    "import numpy as np\n",
    "from sklearn.preprocessing import StandardScaler\n",
    "from sklearn.model_selection import KFold\n",
    "from sklearn.metrics import roc_auc_score\n",
    "import xgboost as xgb\n",
    "\n",
    "import optuna\n",
    "from optuna import Trial, visualization\n",
    "\n",
    "\n",
    "\n"
   ]
  },
  {
   "cell_type": "code",
   "execution_count": 2,
   "metadata": {},
   "outputs": [
    {
     "name": "stdout",
     "output_type": "stream",
     "text": [
      "Tue Apr 12 11:16:04 2022       \n",
      "+-----------------------------------------------------------------------------+\n",
      "| NVIDIA-SMI 496.13       Driver Version: 496.13       CUDA Version: 11.5     |\n",
      "|-------------------------------+----------------------+----------------------+\n",
      "| GPU  Name            TCC/WDDM | Bus-Id        Disp.A | Volatile Uncorr. ECC |\n",
      "| Fan  Temp  Perf  Pwr:Usage/Cap|         Memory-Usage | GPU-Util  Compute M. |\n",
      "|                               |                      |               MIG M. |\n",
      "|===============================+======================+======================|\n",
      "|   0  NVIDIA GeForce ... WDDM  | 00000000:01:00.0  On |                  N/A |\n",
      "|  0%   33C    P8    20W / 250W |    936MiB /  8192MiB |     21%      Default |\n",
      "|                               |                      |                  N/A |\n",
      "+-------------------------------+----------------------+----------------------+\n",
      "                                                                               \n",
      "+-----------------------------------------------------------------------------+\n",
      "| Processes:                                                                  |\n",
      "|  GPU   GI   CI        PID   Type   Process name                  GPU Memory |\n",
      "|        ID   ID                                                   Usage      |\n",
      "|=============================================================================|\n",
      "|    0   N/A  N/A      1340    C+G   Insufficient Permissions        N/A      |\n",
      "|    0   N/A  N/A      1928    C+G   ...5n1h2txyewy\\SearchApp.exe    N/A      |\n",
      "|    0   N/A  N/A      5900    C+G   C:\\Windows\\explorer.exe         N/A      |\n",
      "|    0   N/A  N/A      6304    C+G   ...zilla Firefox\\firefox.exe    N/A      |\n",
      "|    0   N/A  N/A      7648    C+G   ...icrosoft VS Code\\Code.exe    N/A      |\n",
      "|    0   N/A  N/A      8316    C+G   ...ekyb3d8bbwe\\YourPhone.exe    N/A      |\n",
      "|    0   N/A  N/A      8792    C+G   ...cw5n1h2txyewy\\LockApp.exe    N/A      |\n",
      "|    0   N/A  N/A      9832    C+G   ...zilla Firefox\\firefox.exe    N/A      |\n",
      "|    0   N/A  N/A     11400    C+G   ...perience\\NVIDIA Share.exe    N/A      |\n",
      "|    0   N/A  N/A     12796    C+G   ....0.11.0\\GoogleDriveFS.exe    N/A      |\n",
      "|    0   N/A  N/A     13516    C+G   ...2txyewy\\TextInputHost.exe    N/A      |\n",
      "|    0   N/A  N/A     13796    C+G   ...p-2.9.6\\GitHubDesktop.exe    N/A      |\n",
      "|    0   N/A  N/A     16876    C+G   ...lPanel\\SystemSettings.exe    N/A      |\n",
      "|    0   N/A  N/A     17744    C+G   ...y\\ShellExperienceHost.exe    N/A      |\n",
      "+-----------------------------------------------------------------------------+\n"
     ]
    }
   ],
   "source": [
    "!nvidia-smi"
   ]
  },
  {
   "cell_type": "code",
   "execution_count": 3,
   "metadata": {},
   "outputs": [],
   "source": [
    "data = pd.read_csv('../Data/train_features_computed_tabular.csv')\n",
    "labels = pd.read_csv('../Data/train_labels.csv')\n",
    "data = data.merge(labels, on = 'sequence', how = 'left')\n",
    "X, y = data.drop(['sequence', 'state'], axis = 1).values, data['state'].values"
   ]
  },
  {
   "cell_type": "code",
   "execution_count": 4,
   "metadata": {},
   "outputs": [],
   "source": [
    "scaler = StandardScaler()\n",
    "model=scaler.fit(X)\n",
    "X=model.transform(X)"
   ]
  },
  {
   "cell_type": "code",
   "execution_count": null,
   "metadata": {},
   "outputs": [],
   "source": [
    "def Objective(trial):\n",
    "\n",
    "    param = {\n",
    "        \"tree_method\": \"gpu_hist\",  # this parameter means using the GPU when training our model to speedup the training process\n",
    "        \"lambda\": trial.suggest_loguniform(\"lambda\", 1e-3, 10.0),\n",
    "        \"alpha\": trial.suggest_loguniform(\"alpha\", 1e-3, 10.0),\n",
    "        \"colsample_bytree\": trial.suggest_categorical(\n",
    "            \"colsample_bytree\", [0.3, 0.4, 0.5, 0.6, 0.7, 0.8, 0.9, 1.0]\n",
    "        ),\n",
    "        \"subsample\": trial.suggest_categorical(\n",
    "            \"subsample\", [0.4, 0.5, 0.6, 0.7, 0.8, 1.0]\n",
    "        ),\n",
    "        \"learning_rate\": trial.suggest_categorical(\n",
    "            \"learning_rate\", [0.008, 0.009, 0.01, 0.012, 0.014, 0.016, 0.018, 0.02]\n",
    "        ),\n",
    "        \"n_estimators\": 4000,\n",
    "        \"max_depth\": trial.suggest_categorical(\n",
    "            \"max_depth\", [5, 7, 9, 11, 13, 15, 17, 20]\n",
    "        ),\n",
    "        \"random_state\": trial.suggest_categorical(\"random_state\", [24, 48, 2020]),\n",
    "        \"min_child_weight\": trial.suggest_int(\"min_child_weight\", 1, 300),\n",
    "    }\n",
    "\n",
    "    kf = KFold(n_splits=3, random_state=42, shuffle=True)\n",
    "    CV_score_array = []\n",
    "    for train_index, test_index in kf.split(X):\n",
    "        X_train, X_valid = X[train_index], X[test_index]\n",
    "        y_train, y_valid = y[train_index], y[test_index]\n",
    "        clf = xgb.XGBClassifier(**param, use_label_encoder=False)\n",
    "        clf.fit(\n",
    "            X_train,\n",
    "            y_train,\n",
    "            eval_set=[(X_valid, y_valid)],\n",
    "        )\n",
    "\n",
    "        preds = clf.predict(X_valid)\n",
    "        auc = roc_auc_score(y_valid, preds)\n",
    "\n",
    "        CV_score_array.append(auc)\n",
    "    avg = np.mean(CV_score_array)\n",
    "    return avg\n"
   ]
  },
  {
   "cell_type": "code",
   "execution_count": null,
   "metadata": {},
   "outputs": [
    {
     "name": "stderr",
     "output_type": "stream",
     "text": [
      "\u001b[32m[I 2022-04-12 11:15:32,664]\u001b[0m A new study created in memory with name: TabNet optimization\u001b[0m\n"
     ]
    },
    {
     "ename": "KeyboardInterrupt",
     "evalue": "",
     "output_type": "error",
     "traceback": [
      "\u001b[1;31m---------------------------------------------------------------------------\u001b[0m",
      "\u001b[1;31mKeyboardInterrupt\u001b[0m                         Traceback (most recent call last)",
      "\u001b[1;32mg:\\My Drive\\Kaggle\\tabular-playground-series-apr-2022\\Notebooks\\xgb_optuna.ipynb Cell 6'\u001b[0m in \u001b[0;36m<cell line: 2>\u001b[1;34m()\u001b[0m\n\u001b[0;32m      <a href='vscode-notebook-cell:/g%3A/My%20Drive/Kaggle/tabular-playground-series-apr-2022/Notebooks/xgb_optuna.ipynb#ch0000005?line=0'>1</a>\u001b[0m study \u001b[39m=\u001b[39m optuna\u001b[39m.\u001b[39mcreate_study(direction\u001b[39m=\u001b[39m\u001b[39m\"\u001b[39m\u001b[39mmaximize\u001b[39m\u001b[39m\"\u001b[39m, study_name\u001b[39m=\u001b[39m\u001b[39m'\u001b[39m\u001b[39mTabNet optimization\u001b[39m\u001b[39m'\u001b[39m)\n\u001b[1;32m----> <a href='vscode-notebook-cell:/g%3A/My%20Drive/Kaggle/tabular-playground-series-apr-2022/Notebooks/xgb_optuna.ipynb#ch0000005?line=1'>2</a>\u001b[0m study\u001b[39m.\u001b[39;49moptimize(Objective, timeout\u001b[39m=\u001b[39;49m\u001b[39m6\u001b[39;49m\u001b[39m*\u001b[39;49m\u001b[39m60\u001b[39;49m) \u001b[39m#5 hours\u001b[39;00m\n\u001b[0;32m      <a href='vscode-notebook-cell:/g%3A/My%20Drive/Kaggle/tabular-playground-series-apr-2022/Notebooks/xgb_optuna.ipynb#ch0000005?line=3'>4</a>\u001b[0m best \u001b[39m=\u001b[39m study\u001b[39m.\u001b[39mbest_params\n\u001b[0;32m      <a href='vscode-notebook-cell:/g%3A/My%20Drive/Kaggle/tabular-playground-series-apr-2022/Notebooks/xgb_optuna.ipynb#ch0000005?line=4'>5</a>\u001b[0m \u001b[39mprint\u001b[39m(\u001b[39m'\u001b[39m\u001b[39mThe best parameters are \u001b[39m\u001b[39m'\u001b[39m, best)\n",
      "File \u001b[1;32mg:\\My Drive\\Kaggle\\tabular-playground-series-apr-2022\\tab22\\lib\\site-packages\\optuna\\study\\study.py:400\u001b[0m, in \u001b[0;36mStudy.optimize\u001b[1;34m(self, func, n_trials, timeout, n_jobs, catch, callbacks, gc_after_trial, show_progress_bar)\u001b[0m\n\u001b[0;32m    <a href='file:///g%3A/My%20Drive/Kaggle/tabular-playground-series-apr-2022/tab22/lib/site-packages/optuna/study/study.py?line=391'>392</a>\u001b[0m \u001b[39mif\u001b[39;00m n_jobs \u001b[39m!=\u001b[39m \u001b[39m1\u001b[39m:\n\u001b[0;32m    <a href='file:///g%3A/My%20Drive/Kaggle/tabular-playground-series-apr-2022/tab22/lib/site-packages/optuna/study/study.py?line=392'>393</a>\u001b[0m     warnings\u001b[39m.\u001b[39mwarn(\n\u001b[0;32m    <a href='file:///g%3A/My%20Drive/Kaggle/tabular-playground-series-apr-2022/tab22/lib/site-packages/optuna/study/study.py?line=393'>394</a>\u001b[0m         \u001b[39m\"\u001b[39m\u001b[39m`n_jobs` argument has been deprecated in v2.7.0. \u001b[39m\u001b[39m\"\u001b[39m\n\u001b[0;32m    <a href='file:///g%3A/My%20Drive/Kaggle/tabular-playground-series-apr-2022/tab22/lib/site-packages/optuna/study/study.py?line=394'>395</a>\u001b[0m         \u001b[39m\"\u001b[39m\u001b[39mThis feature will be removed in v4.0.0. \u001b[39m\u001b[39m\"\u001b[39m\n\u001b[0;32m    <a href='file:///g%3A/My%20Drive/Kaggle/tabular-playground-series-apr-2022/tab22/lib/site-packages/optuna/study/study.py?line=395'>396</a>\u001b[0m         \u001b[39m\"\u001b[39m\u001b[39mSee https://github.com/optuna/optuna/releases/tag/v2.7.0.\u001b[39m\u001b[39m\"\u001b[39m,\n\u001b[0;32m    <a href='file:///g%3A/My%20Drive/Kaggle/tabular-playground-series-apr-2022/tab22/lib/site-packages/optuna/study/study.py?line=396'>397</a>\u001b[0m         \u001b[39mFutureWarning\u001b[39;00m,\n\u001b[0;32m    <a href='file:///g%3A/My%20Drive/Kaggle/tabular-playground-series-apr-2022/tab22/lib/site-packages/optuna/study/study.py?line=397'>398</a>\u001b[0m     )\n\u001b[1;32m--> <a href='file:///g%3A/My%20Drive/Kaggle/tabular-playground-series-apr-2022/tab22/lib/site-packages/optuna/study/study.py?line=399'>400</a>\u001b[0m _optimize(\n\u001b[0;32m    <a href='file:///g%3A/My%20Drive/Kaggle/tabular-playground-series-apr-2022/tab22/lib/site-packages/optuna/study/study.py?line=400'>401</a>\u001b[0m     study\u001b[39m=\u001b[39;49m\u001b[39mself\u001b[39;49m,\n\u001b[0;32m    <a href='file:///g%3A/My%20Drive/Kaggle/tabular-playground-series-apr-2022/tab22/lib/site-packages/optuna/study/study.py?line=401'>402</a>\u001b[0m     func\u001b[39m=\u001b[39;49mfunc,\n\u001b[0;32m    <a href='file:///g%3A/My%20Drive/Kaggle/tabular-playground-series-apr-2022/tab22/lib/site-packages/optuna/study/study.py?line=402'>403</a>\u001b[0m     n_trials\u001b[39m=\u001b[39;49mn_trials,\n\u001b[0;32m    <a href='file:///g%3A/My%20Drive/Kaggle/tabular-playground-series-apr-2022/tab22/lib/site-packages/optuna/study/study.py?line=403'>404</a>\u001b[0m     timeout\u001b[39m=\u001b[39;49mtimeout,\n\u001b[0;32m    <a href='file:///g%3A/My%20Drive/Kaggle/tabular-playground-series-apr-2022/tab22/lib/site-packages/optuna/study/study.py?line=404'>405</a>\u001b[0m     n_jobs\u001b[39m=\u001b[39;49mn_jobs,\n\u001b[0;32m    <a href='file:///g%3A/My%20Drive/Kaggle/tabular-playground-series-apr-2022/tab22/lib/site-packages/optuna/study/study.py?line=405'>406</a>\u001b[0m     catch\u001b[39m=\u001b[39;49mcatch,\n\u001b[0;32m    <a href='file:///g%3A/My%20Drive/Kaggle/tabular-playground-series-apr-2022/tab22/lib/site-packages/optuna/study/study.py?line=406'>407</a>\u001b[0m     callbacks\u001b[39m=\u001b[39;49mcallbacks,\n\u001b[0;32m    <a href='file:///g%3A/My%20Drive/Kaggle/tabular-playground-series-apr-2022/tab22/lib/site-packages/optuna/study/study.py?line=407'>408</a>\u001b[0m     gc_after_trial\u001b[39m=\u001b[39;49mgc_after_trial,\n\u001b[0;32m    <a href='file:///g%3A/My%20Drive/Kaggle/tabular-playground-series-apr-2022/tab22/lib/site-packages/optuna/study/study.py?line=408'>409</a>\u001b[0m     show_progress_bar\u001b[39m=\u001b[39;49mshow_progress_bar,\n\u001b[0;32m    <a href='file:///g%3A/My%20Drive/Kaggle/tabular-playground-series-apr-2022/tab22/lib/site-packages/optuna/study/study.py?line=409'>410</a>\u001b[0m )\n",
      "File \u001b[1;32mg:\\My Drive\\Kaggle\\tabular-playground-series-apr-2022\\tab22\\lib\\site-packages\\optuna\\study\\_optimize.py:66\u001b[0m, in \u001b[0;36m_optimize\u001b[1;34m(study, func, n_trials, timeout, n_jobs, catch, callbacks, gc_after_trial, show_progress_bar)\u001b[0m\n\u001b[0;32m     <a href='file:///g%3A/My%20Drive/Kaggle/tabular-playground-series-apr-2022/tab22/lib/site-packages/optuna/study/_optimize.py?line=63'>64</a>\u001b[0m \u001b[39mtry\u001b[39;00m:\n\u001b[0;32m     <a href='file:///g%3A/My%20Drive/Kaggle/tabular-playground-series-apr-2022/tab22/lib/site-packages/optuna/study/_optimize.py?line=64'>65</a>\u001b[0m     \u001b[39mif\u001b[39;00m n_jobs \u001b[39m==\u001b[39m \u001b[39m1\u001b[39m:\n\u001b[1;32m---> <a href='file:///g%3A/My%20Drive/Kaggle/tabular-playground-series-apr-2022/tab22/lib/site-packages/optuna/study/_optimize.py?line=65'>66</a>\u001b[0m         _optimize_sequential(\n\u001b[0;32m     <a href='file:///g%3A/My%20Drive/Kaggle/tabular-playground-series-apr-2022/tab22/lib/site-packages/optuna/study/_optimize.py?line=66'>67</a>\u001b[0m             study,\n\u001b[0;32m     <a href='file:///g%3A/My%20Drive/Kaggle/tabular-playground-series-apr-2022/tab22/lib/site-packages/optuna/study/_optimize.py?line=67'>68</a>\u001b[0m             func,\n\u001b[0;32m     <a href='file:///g%3A/My%20Drive/Kaggle/tabular-playground-series-apr-2022/tab22/lib/site-packages/optuna/study/_optimize.py?line=68'>69</a>\u001b[0m             n_trials,\n\u001b[0;32m     <a href='file:///g%3A/My%20Drive/Kaggle/tabular-playground-series-apr-2022/tab22/lib/site-packages/optuna/study/_optimize.py?line=69'>70</a>\u001b[0m             timeout,\n\u001b[0;32m     <a href='file:///g%3A/My%20Drive/Kaggle/tabular-playground-series-apr-2022/tab22/lib/site-packages/optuna/study/_optimize.py?line=70'>71</a>\u001b[0m             catch,\n\u001b[0;32m     <a href='file:///g%3A/My%20Drive/Kaggle/tabular-playground-series-apr-2022/tab22/lib/site-packages/optuna/study/_optimize.py?line=71'>72</a>\u001b[0m             callbacks,\n\u001b[0;32m     <a href='file:///g%3A/My%20Drive/Kaggle/tabular-playground-series-apr-2022/tab22/lib/site-packages/optuna/study/_optimize.py?line=72'>73</a>\u001b[0m             gc_after_trial,\n\u001b[0;32m     <a href='file:///g%3A/My%20Drive/Kaggle/tabular-playground-series-apr-2022/tab22/lib/site-packages/optuna/study/_optimize.py?line=73'>74</a>\u001b[0m             reseed_sampler_rng\u001b[39m=\u001b[39;49m\u001b[39mFalse\u001b[39;49;00m,\n\u001b[0;32m     <a href='file:///g%3A/My%20Drive/Kaggle/tabular-playground-series-apr-2022/tab22/lib/site-packages/optuna/study/_optimize.py?line=74'>75</a>\u001b[0m             time_start\u001b[39m=\u001b[39;49m\u001b[39mNone\u001b[39;49;00m,\n\u001b[0;32m     <a href='file:///g%3A/My%20Drive/Kaggle/tabular-playground-series-apr-2022/tab22/lib/site-packages/optuna/study/_optimize.py?line=75'>76</a>\u001b[0m             progress_bar\u001b[39m=\u001b[39;49mprogress_bar,\n\u001b[0;32m     <a href='file:///g%3A/My%20Drive/Kaggle/tabular-playground-series-apr-2022/tab22/lib/site-packages/optuna/study/_optimize.py?line=76'>77</a>\u001b[0m         )\n\u001b[0;32m     <a href='file:///g%3A/My%20Drive/Kaggle/tabular-playground-series-apr-2022/tab22/lib/site-packages/optuna/study/_optimize.py?line=77'>78</a>\u001b[0m     \u001b[39melse\u001b[39;00m:\n\u001b[0;32m     <a href='file:///g%3A/My%20Drive/Kaggle/tabular-playground-series-apr-2022/tab22/lib/site-packages/optuna/study/_optimize.py?line=78'>79</a>\u001b[0m         \u001b[39mif\u001b[39;00m show_progress_bar:\n",
      "File \u001b[1;32mg:\\My Drive\\Kaggle\\tabular-playground-series-apr-2022\\tab22\\lib\\site-packages\\optuna\\study\\_optimize.py:163\u001b[0m, in \u001b[0;36m_optimize_sequential\u001b[1;34m(study, func, n_trials, timeout, catch, callbacks, gc_after_trial, reseed_sampler_rng, time_start, progress_bar)\u001b[0m\n\u001b[0;32m    <a href='file:///g%3A/My%20Drive/Kaggle/tabular-playground-series-apr-2022/tab22/lib/site-packages/optuna/study/_optimize.py?line=159'>160</a>\u001b[0m         \u001b[39mbreak\u001b[39;00m\n\u001b[0;32m    <a href='file:///g%3A/My%20Drive/Kaggle/tabular-playground-series-apr-2022/tab22/lib/site-packages/optuna/study/_optimize.py?line=161'>162</a>\u001b[0m \u001b[39mtry\u001b[39;00m:\n\u001b[1;32m--> <a href='file:///g%3A/My%20Drive/Kaggle/tabular-playground-series-apr-2022/tab22/lib/site-packages/optuna/study/_optimize.py?line=162'>163</a>\u001b[0m     trial \u001b[39m=\u001b[39m _run_trial(study, func, catch)\n\u001b[0;32m    <a href='file:///g%3A/My%20Drive/Kaggle/tabular-playground-series-apr-2022/tab22/lib/site-packages/optuna/study/_optimize.py?line=163'>164</a>\u001b[0m \u001b[39mexcept\u001b[39;00m \u001b[39mException\u001b[39;00m:\n\u001b[0;32m    <a href='file:///g%3A/My%20Drive/Kaggle/tabular-playground-series-apr-2022/tab22/lib/site-packages/optuna/study/_optimize.py?line=164'>165</a>\u001b[0m     \u001b[39mraise\u001b[39;00m\n",
      "File \u001b[1;32mg:\\My Drive\\Kaggle\\tabular-playground-series-apr-2022\\tab22\\lib\\site-packages\\optuna\\study\\_optimize.py:213\u001b[0m, in \u001b[0;36m_run_trial\u001b[1;34m(study, func, catch)\u001b[0m\n\u001b[0;32m    <a href='file:///g%3A/My%20Drive/Kaggle/tabular-playground-series-apr-2022/tab22/lib/site-packages/optuna/study/_optimize.py?line=209'>210</a>\u001b[0m     thread\u001b[39m.\u001b[39mstart()\n\u001b[0;32m    <a href='file:///g%3A/My%20Drive/Kaggle/tabular-playground-series-apr-2022/tab22/lib/site-packages/optuna/study/_optimize.py?line=211'>212</a>\u001b[0m \u001b[39mtry\u001b[39;00m:\n\u001b[1;32m--> <a href='file:///g%3A/My%20Drive/Kaggle/tabular-playground-series-apr-2022/tab22/lib/site-packages/optuna/study/_optimize.py?line=212'>213</a>\u001b[0m     value_or_values \u001b[39m=\u001b[39m func(trial)\n\u001b[0;32m    <a href='file:///g%3A/My%20Drive/Kaggle/tabular-playground-series-apr-2022/tab22/lib/site-packages/optuna/study/_optimize.py?line=213'>214</a>\u001b[0m \u001b[39mexcept\u001b[39;00m exceptions\u001b[39m.\u001b[39mTrialPruned \u001b[39mas\u001b[39;00m e:\n\u001b[0;32m    <a href='file:///g%3A/My%20Drive/Kaggle/tabular-playground-series-apr-2022/tab22/lib/site-packages/optuna/study/_optimize.py?line=214'>215</a>\u001b[0m     \u001b[39m# TODO(mamu): Handle multi-objective cases.\u001b[39;00m\n\u001b[0;32m    <a href='file:///g%3A/My%20Drive/Kaggle/tabular-playground-series-apr-2022/tab22/lib/site-packages/optuna/study/_optimize.py?line=215'>216</a>\u001b[0m     state \u001b[39m=\u001b[39m TrialState\u001b[39m.\u001b[39mPRUNED\n",
      "\u001b[1;32mg:\\My Drive\\Kaggle\\tabular-playground-series-apr-2022\\Notebooks\\xgb_optuna.ipynb Cell 5'\u001b[0m in \u001b[0;36mObjective\u001b[1;34m(trial)\u001b[0m\n\u001b[0;32m     <a href='vscode-notebook-cell:/g%3A/My%20Drive/Kaggle/tabular-playground-series-apr-2022/Notebooks/xgb_optuna.ipynb#ch0000004?line=27'>28</a>\u001b[0m y_train, y_valid \u001b[39m=\u001b[39m y[train_index], y[test_index]\n\u001b[0;32m     <a href='vscode-notebook-cell:/g%3A/My%20Drive/Kaggle/tabular-playground-series-apr-2022/Notebooks/xgb_optuna.ipynb#ch0000004?line=28'>29</a>\u001b[0m clf \u001b[39m=\u001b[39m xgb\u001b[39m.\u001b[39mXGBClassifier(\u001b[39m*\u001b[39m\u001b[39m*\u001b[39mparam, use_label_encoder\u001b[39m=\u001b[39m\u001b[39mFalse\u001b[39;00m)\n\u001b[1;32m---> <a href='vscode-notebook-cell:/g%3A/My%20Drive/Kaggle/tabular-playground-series-apr-2022/Notebooks/xgb_optuna.ipynb#ch0000004?line=29'>30</a>\u001b[0m clf\u001b[39m.\u001b[39;49mfit(\n\u001b[0;32m     <a href='vscode-notebook-cell:/g%3A/My%20Drive/Kaggle/tabular-playground-series-apr-2022/Notebooks/xgb_optuna.ipynb#ch0000004?line=30'>31</a>\u001b[0m     X_train,\n\u001b[0;32m     <a href='vscode-notebook-cell:/g%3A/My%20Drive/Kaggle/tabular-playground-series-apr-2022/Notebooks/xgb_optuna.ipynb#ch0000004?line=31'>32</a>\u001b[0m     y_train,\n\u001b[0;32m     <a href='vscode-notebook-cell:/g%3A/My%20Drive/Kaggle/tabular-playground-series-apr-2022/Notebooks/xgb_optuna.ipynb#ch0000004?line=32'>33</a>\u001b[0m     eval_set\u001b[39m=\u001b[39;49m[(X_valid, y_valid)],\n\u001b[0;32m     <a href='vscode-notebook-cell:/g%3A/My%20Drive/Kaggle/tabular-playground-series-apr-2022/Notebooks/xgb_optuna.ipynb#ch0000004?line=33'>34</a>\u001b[0m )\n\u001b[0;32m     <a href='vscode-notebook-cell:/g%3A/My%20Drive/Kaggle/tabular-playground-series-apr-2022/Notebooks/xgb_optuna.ipynb#ch0000004?line=35'>36</a>\u001b[0m preds \u001b[39m=\u001b[39m clf\u001b[39m.\u001b[39mpredict(X_valid)\n\u001b[0;32m     <a href='vscode-notebook-cell:/g%3A/My%20Drive/Kaggle/tabular-playground-series-apr-2022/Notebooks/xgb_optuna.ipynb#ch0000004?line=36'>37</a>\u001b[0m auc \u001b[39m=\u001b[39m roc_auc_score(y_valid, preds)\n",
      "File \u001b[1;32mg:\\My Drive\\Kaggle\\tabular-playground-series-apr-2022\\tab22\\lib\\site-packages\\xgboost\\core.py:506\u001b[0m, in \u001b[0;36m_deprecate_positional_args.<locals>.inner_f\u001b[1;34m(*args, **kwargs)\u001b[0m\n\u001b[0;32m    <a href='file:///g%3A/My%20Drive/Kaggle/tabular-playground-series-apr-2022/tab22/lib/site-packages/xgboost/core.py?line=503'>504</a>\u001b[0m \u001b[39mfor\u001b[39;00m k, arg \u001b[39min\u001b[39;00m \u001b[39mzip\u001b[39m(sig\u001b[39m.\u001b[39mparameters, args):\n\u001b[0;32m    <a href='file:///g%3A/My%20Drive/Kaggle/tabular-playground-series-apr-2022/tab22/lib/site-packages/xgboost/core.py?line=504'>505</a>\u001b[0m     kwargs[k] \u001b[39m=\u001b[39m arg\n\u001b[1;32m--> <a href='file:///g%3A/My%20Drive/Kaggle/tabular-playground-series-apr-2022/tab22/lib/site-packages/xgboost/core.py?line=505'>506</a>\u001b[0m \u001b[39mreturn\u001b[39;00m f(\u001b[39m*\u001b[39m\u001b[39m*\u001b[39mkwargs)\n",
      "File \u001b[1;32mg:\\My Drive\\Kaggle\\tabular-playground-series-apr-2022\\tab22\\lib\\site-packages\\xgboost\\sklearn.py:1250\u001b[0m, in \u001b[0;36mXGBClassifier.fit\u001b[1;34m(self, X, y, sample_weight, base_margin, eval_set, eval_metric, early_stopping_rounds, verbose, xgb_model, sample_weight_eval_set, base_margin_eval_set, feature_weights, callbacks)\u001b[0m\n\u001b[0;32m   <a href='file:///g%3A/My%20Drive/Kaggle/tabular-playground-series-apr-2022/tab22/lib/site-packages/xgboost/sklearn.py?line=1229'>1230</a>\u001b[0m model, feval, params \u001b[39m=\u001b[39m \u001b[39mself\u001b[39m\u001b[39m.\u001b[39m_configure_fit(xgb_model, eval_metric, params)\n\u001b[0;32m   <a href='file:///g%3A/My%20Drive/Kaggle/tabular-playground-series-apr-2022/tab22/lib/site-packages/xgboost/sklearn.py?line=1230'>1231</a>\u001b[0m train_dmatrix, evals \u001b[39m=\u001b[39m _wrap_evaluation_matrices(\n\u001b[0;32m   <a href='file:///g%3A/My%20Drive/Kaggle/tabular-playground-series-apr-2022/tab22/lib/site-packages/xgboost/sklearn.py?line=1231'>1232</a>\u001b[0m     missing\u001b[39m=\u001b[39m\u001b[39mself\u001b[39m\u001b[39m.\u001b[39mmissing,\n\u001b[0;32m   <a href='file:///g%3A/My%20Drive/Kaggle/tabular-playground-series-apr-2022/tab22/lib/site-packages/xgboost/sklearn.py?line=1232'>1233</a>\u001b[0m     X\u001b[39m=\u001b[39mX,\n\u001b[1;32m   (...)\u001b[0m\n\u001b[0;32m   <a href='file:///g%3A/My%20Drive/Kaggle/tabular-playground-series-apr-2022/tab22/lib/site-packages/xgboost/sklearn.py?line=1246'>1247</a>\u001b[0m     label_transform\u001b[39m=\u001b[39mlabel_transform,\n\u001b[0;32m   <a href='file:///g%3A/My%20Drive/Kaggle/tabular-playground-series-apr-2022/tab22/lib/site-packages/xgboost/sklearn.py?line=1247'>1248</a>\u001b[0m )\n\u001b[1;32m-> <a href='file:///g%3A/My%20Drive/Kaggle/tabular-playground-series-apr-2022/tab22/lib/site-packages/xgboost/sklearn.py?line=1249'>1250</a>\u001b[0m \u001b[39mself\u001b[39m\u001b[39m.\u001b[39m_Booster \u001b[39m=\u001b[39m train(\n\u001b[0;32m   <a href='file:///g%3A/My%20Drive/Kaggle/tabular-playground-series-apr-2022/tab22/lib/site-packages/xgboost/sklearn.py?line=1250'>1251</a>\u001b[0m     params,\n\u001b[0;32m   <a href='file:///g%3A/My%20Drive/Kaggle/tabular-playground-series-apr-2022/tab22/lib/site-packages/xgboost/sklearn.py?line=1251'>1252</a>\u001b[0m     train_dmatrix,\n\u001b[0;32m   <a href='file:///g%3A/My%20Drive/Kaggle/tabular-playground-series-apr-2022/tab22/lib/site-packages/xgboost/sklearn.py?line=1252'>1253</a>\u001b[0m     \u001b[39mself\u001b[39;49m\u001b[39m.\u001b[39;49mget_num_boosting_rounds(),\n\u001b[0;32m   <a href='file:///g%3A/My%20Drive/Kaggle/tabular-playground-series-apr-2022/tab22/lib/site-packages/xgboost/sklearn.py?line=1253'>1254</a>\u001b[0m     evals\u001b[39m=\u001b[39;49mevals,\n\u001b[0;32m   <a href='file:///g%3A/My%20Drive/Kaggle/tabular-playground-series-apr-2022/tab22/lib/site-packages/xgboost/sklearn.py?line=1254'>1255</a>\u001b[0m     early_stopping_rounds\u001b[39m=\u001b[39;49mearly_stopping_rounds,\n\u001b[0;32m   <a href='file:///g%3A/My%20Drive/Kaggle/tabular-playground-series-apr-2022/tab22/lib/site-packages/xgboost/sklearn.py?line=1255'>1256</a>\u001b[0m     evals_result\u001b[39m=\u001b[39;49mevals_result,\n\u001b[0;32m   <a href='file:///g%3A/My%20Drive/Kaggle/tabular-playground-series-apr-2022/tab22/lib/site-packages/xgboost/sklearn.py?line=1256'>1257</a>\u001b[0m     obj\u001b[39m=\u001b[39;49mobj,\n\u001b[0;32m   <a href='file:///g%3A/My%20Drive/Kaggle/tabular-playground-series-apr-2022/tab22/lib/site-packages/xgboost/sklearn.py?line=1257'>1258</a>\u001b[0m     feval\u001b[39m=\u001b[39;49mfeval,\n\u001b[0;32m   <a href='file:///g%3A/My%20Drive/Kaggle/tabular-playground-series-apr-2022/tab22/lib/site-packages/xgboost/sklearn.py?line=1258'>1259</a>\u001b[0m     verbose_eval\u001b[39m=\u001b[39;49mverbose,\n\u001b[0;32m   <a href='file:///g%3A/My%20Drive/Kaggle/tabular-playground-series-apr-2022/tab22/lib/site-packages/xgboost/sklearn.py?line=1259'>1260</a>\u001b[0m     xgb_model\u001b[39m=\u001b[39;49mmodel,\n\u001b[0;32m   <a href='file:///g%3A/My%20Drive/Kaggle/tabular-playground-series-apr-2022/tab22/lib/site-packages/xgboost/sklearn.py?line=1260'>1261</a>\u001b[0m     callbacks\u001b[39m=\u001b[39;49mcallbacks,\n\u001b[0;32m   <a href='file:///g%3A/My%20Drive/Kaggle/tabular-playground-series-apr-2022/tab22/lib/site-packages/xgboost/sklearn.py?line=1261'>1262</a>\u001b[0m )\n\u001b[0;32m   <a href='file:///g%3A/My%20Drive/Kaggle/tabular-playground-series-apr-2022/tab22/lib/site-packages/xgboost/sklearn.py?line=1263'>1264</a>\u001b[0m \u001b[39mif\u001b[39;00m \u001b[39mnot\u001b[39;00m callable(\u001b[39mself\u001b[39m\u001b[39m.\u001b[39mobjective):\n\u001b[0;32m   <a href='file:///g%3A/My%20Drive/Kaggle/tabular-playground-series-apr-2022/tab22/lib/site-packages/xgboost/sklearn.py?line=1264'>1265</a>\u001b[0m     \u001b[39mself\u001b[39m\u001b[39m.\u001b[39mobjective \u001b[39m=\u001b[39m params[\u001b[39m\"\u001b[39m\u001b[39mobjective\u001b[39m\u001b[39m\"\u001b[39m]\n",
      "File \u001b[1;32mg:\\My Drive\\Kaggle\\tabular-playground-series-apr-2022\\tab22\\lib\\site-packages\\xgboost\\training.py:188\u001b[0m, in \u001b[0;36mtrain\u001b[1;34m(params, dtrain, num_boost_round, evals, obj, feval, maximize, early_stopping_rounds, evals_result, verbose_eval, xgb_model, callbacks)\u001b[0m\n\u001b[0;32m    <a href='file:///g%3A/My%20Drive/Kaggle/tabular-playground-series-apr-2022/tab22/lib/site-packages/xgboost/training.py?line=114'>115</a>\u001b[0m \u001b[39mdef\u001b[39;00m \u001b[39mtrain\u001b[39m(params, dtrain, num_boost_round\u001b[39m=\u001b[39m\u001b[39m10\u001b[39m, evals\u001b[39m=\u001b[39m(), obj\u001b[39m=\u001b[39m\u001b[39mNone\u001b[39;00m, feval\u001b[39m=\u001b[39m\u001b[39mNone\u001b[39;00m,\n\u001b[0;32m    <a href='file:///g%3A/My%20Drive/Kaggle/tabular-playground-series-apr-2022/tab22/lib/site-packages/xgboost/training.py?line=115'>116</a>\u001b[0m           maximize\u001b[39m=\u001b[39m\u001b[39mNone\u001b[39;00m, early_stopping_rounds\u001b[39m=\u001b[39m\u001b[39mNone\u001b[39;00m, evals_result\u001b[39m=\u001b[39m\u001b[39mNone\u001b[39;00m,\n\u001b[0;32m    <a href='file:///g%3A/My%20Drive/Kaggle/tabular-playground-series-apr-2022/tab22/lib/site-packages/xgboost/training.py?line=116'>117</a>\u001b[0m           verbose_eval\u001b[39m=\u001b[39m\u001b[39mTrue\u001b[39;00m, xgb_model\u001b[39m=\u001b[39m\u001b[39mNone\u001b[39;00m, callbacks\u001b[39m=\u001b[39m\u001b[39mNone\u001b[39;00m):\n\u001b[0;32m    <a href='file:///g%3A/My%20Drive/Kaggle/tabular-playground-series-apr-2022/tab22/lib/site-packages/xgboost/training.py?line=117'>118</a>\u001b[0m     \u001b[39m# pylint: disable=too-many-statements,too-many-branches, attribute-defined-outside-init\u001b[39;00m\n\u001b[0;32m    <a href='file:///g%3A/My%20Drive/Kaggle/tabular-playground-series-apr-2022/tab22/lib/site-packages/xgboost/training.py?line=118'>119</a>\u001b[0m     \u001b[39m\"\"\"Train a booster with given parameters.\u001b[39;00m\n\u001b[0;32m    <a href='file:///g%3A/My%20Drive/Kaggle/tabular-playground-series-apr-2022/tab22/lib/site-packages/xgboost/training.py?line=119'>120</a>\u001b[0m \n\u001b[0;32m    <a href='file:///g%3A/My%20Drive/Kaggle/tabular-playground-series-apr-2022/tab22/lib/site-packages/xgboost/training.py?line=120'>121</a>\u001b[0m \u001b[39m    Parameters\u001b[39;00m\n\u001b[1;32m   (...)\u001b[0m\n\u001b[0;32m    <a href='file:///g%3A/My%20Drive/Kaggle/tabular-playground-series-apr-2022/tab22/lib/site-packages/xgboost/training.py?line=185'>186</a>\u001b[0m \u001b[39m    Booster : a trained booster model\u001b[39;00m\n\u001b[0;32m    <a href='file:///g%3A/My%20Drive/Kaggle/tabular-playground-series-apr-2022/tab22/lib/site-packages/xgboost/training.py?line=186'>187</a>\u001b[0m \u001b[39m    \"\"\"\u001b[39;00m\n\u001b[1;32m--> <a href='file:///g%3A/My%20Drive/Kaggle/tabular-playground-series-apr-2022/tab22/lib/site-packages/xgboost/training.py?line=187'>188</a>\u001b[0m     bst \u001b[39m=\u001b[39m _train_internal(params, dtrain,\n\u001b[0;32m    <a href='file:///g%3A/My%20Drive/Kaggle/tabular-playground-series-apr-2022/tab22/lib/site-packages/xgboost/training.py?line=188'>189</a>\u001b[0m                           num_boost_round\u001b[39m=\u001b[39;49mnum_boost_round,\n\u001b[0;32m    <a href='file:///g%3A/My%20Drive/Kaggle/tabular-playground-series-apr-2022/tab22/lib/site-packages/xgboost/training.py?line=189'>190</a>\u001b[0m                           evals\u001b[39m=\u001b[39;49mevals,\n\u001b[0;32m    <a href='file:///g%3A/My%20Drive/Kaggle/tabular-playground-series-apr-2022/tab22/lib/site-packages/xgboost/training.py?line=190'>191</a>\u001b[0m                           obj\u001b[39m=\u001b[39;49mobj, feval\u001b[39m=\u001b[39;49mfeval,\n\u001b[0;32m    <a href='file:///g%3A/My%20Drive/Kaggle/tabular-playground-series-apr-2022/tab22/lib/site-packages/xgboost/training.py?line=191'>192</a>\u001b[0m                           xgb_model\u001b[39m=\u001b[39;49mxgb_model, callbacks\u001b[39m=\u001b[39;49mcallbacks,\n\u001b[0;32m    <a href='file:///g%3A/My%20Drive/Kaggle/tabular-playground-series-apr-2022/tab22/lib/site-packages/xgboost/training.py?line=192'>193</a>\u001b[0m                           verbose_eval\u001b[39m=\u001b[39;49mverbose_eval,\n\u001b[0;32m    <a href='file:///g%3A/My%20Drive/Kaggle/tabular-playground-series-apr-2022/tab22/lib/site-packages/xgboost/training.py?line=193'>194</a>\u001b[0m                           evals_result\u001b[39m=\u001b[39;49mevals_result,\n\u001b[0;32m    <a href='file:///g%3A/My%20Drive/Kaggle/tabular-playground-series-apr-2022/tab22/lib/site-packages/xgboost/training.py?line=194'>195</a>\u001b[0m                           maximize\u001b[39m=\u001b[39;49mmaximize,\n\u001b[0;32m    <a href='file:///g%3A/My%20Drive/Kaggle/tabular-playground-series-apr-2022/tab22/lib/site-packages/xgboost/training.py?line=195'>196</a>\u001b[0m                           early_stopping_rounds\u001b[39m=\u001b[39;49mearly_stopping_rounds)\n\u001b[0;32m    <a href='file:///g%3A/My%20Drive/Kaggle/tabular-playground-series-apr-2022/tab22/lib/site-packages/xgboost/training.py?line=196'>197</a>\u001b[0m     \u001b[39mreturn\u001b[39;00m bst\n",
      "File \u001b[1;32mg:\\My Drive\\Kaggle\\tabular-playground-series-apr-2022\\tab22\\lib\\site-packages\\xgboost\\training.py:81\u001b[0m, in \u001b[0;36m_train_internal\u001b[1;34m(params, dtrain, num_boost_round, evals, obj, feval, xgb_model, callbacks, evals_result, maximize, verbose_eval, early_stopping_rounds)\u001b[0m\n\u001b[0;32m     <a href='file:///g%3A/My%20Drive/Kaggle/tabular-playground-series-apr-2022/tab22/lib/site-packages/xgboost/training.py?line=78'>79</a>\u001b[0m \u001b[39mif\u001b[39;00m callbacks\u001b[39m.\u001b[39mbefore_iteration(bst, i, dtrain, evals):\n\u001b[0;32m     <a href='file:///g%3A/My%20Drive/Kaggle/tabular-playground-series-apr-2022/tab22/lib/site-packages/xgboost/training.py?line=79'>80</a>\u001b[0m     \u001b[39mbreak\u001b[39;00m\n\u001b[1;32m---> <a href='file:///g%3A/My%20Drive/Kaggle/tabular-playground-series-apr-2022/tab22/lib/site-packages/xgboost/training.py?line=80'>81</a>\u001b[0m bst\u001b[39m.\u001b[39;49mupdate(dtrain, i, obj)\n\u001b[0;32m     <a href='file:///g%3A/My%20Drive/Kaggle/tabular-playground-series-apr-2022/tab22/lib/site-packages/xgboost/training.py?line=81'>82</a>\u001b[0m \u001b[39mif\u001b[39;00m callbacks\u001b[39m.\u001b[39mafter_iteration(bst, i, dtrain, evals):\n\u001b[0;32m     <a href='file:///g%3A/My%20Drive/Kaggle/tabular-playground-series-apr-2022/tab22/lib/site-packages/xgboost/training.py?line=82'>83</a>\u001b[0m     \u001b[39mbreak\u001b[39;00m\n",
      "File \u001b[1;32mg:\\My Drive\\Kaggle\\tabular-playground-series-apr-2022\\tab22\\lib\\site-packages\\xgboost\\core.py:1680\u001b[0m, in \u001b[0;36mBooster.update\u001b[1;34m(self, dtrain, iteration, fobj)\u001b[0m\n\u001b[0;32m   <a href='file:///g%3A/My%20Drive/Kaggle/tabular-playground-series-apr-2022/tab22/lib/site-packages/xgboost/core.py?line=1676'>1677</a>\u001b[0m \u001b[39mself\u001b[39m\u001b[39m.\u001b[39m_validate_features(dtrain)\n\u001b[0;32m   <a href='file:///g%3A/My%20Drive/Kaggle/tabular-playground-series-apr-2022/tab22/lib/site-packages/xgboost/core.py?line=1678'>1679</a>\u001b[0m \u001b[39mif\u001b[39;00m fobj \u001b[39mis\u001b[39;00m \u001b[39mNone\u001b[39;00m:\n\u001b[1;32m-> <a href='file:///g%3A/My%20Drive/Kaggle/tabular-playground-series-apr-2022/tab22/lib/site-packages/xgboost/core.py?line=1679'>1680</a>\u001b[0m     _check_call(_LIB\u001b[39m.\u001b[39;49mXGBoosterUpdateOneIter(\u001b[39mself\u001b[39;49m\u001b[39m.\u001b[39;49mhandle,\n\u001b[0;32m   <a href='file:///g%3A/My%20Drive/Kaggle/tabular-playground-series-apr-2022/tab22/lib/site-packages/xgboost/core.py?line=1680'>1681</a>\u001b[0m                                             ctypes\u001b[39m.\u001b[39;49mc_int(iteration),\n\u001b[0;32m   <a href='file:///g%3A/My%20Drive/Kaggle/tabular-playground-series-apr-2022/tab22/lib/site-packages/xgboost/core.py?line=1681'>1682</a>\u001b[0m                                             dtrain\u001b[39m.\u001b[39;49mhandle))\n\u001b[0;32m   <a href='file:///g%3A/My%20Drive/Kaggle/tabular-playground-series-apr-2022/tab22/lib/site-packages/xgboost/core.py?line=1682'>1683</a>\u001b[0m \u001b[39melse\u001b[39;00m:\n\u001b[0;32m   <a href='file:///g%3A/My%20Drive/Kaggle/tabular-playground-series-apr-2022/tab22/lib/site-packages/xgboost/core.py?line=1683'>1684</a>\u001b[0m     pred \u001b[39m=\u001b[39m \u001b[39mself\u001b[39m\u001b[39m.\u001b[39mpredict(dtrain, output_margin\u001b[39m=\u001b[39m\u001b[39mTrue\u001b[39;00m, training\u001b[39m=\u001b[39m\u001b[39mTrue\u001b[39;00m)\n",
      "\u001b[1;31mKeyboardInterrupt\u001b[0m: "
     ]
    }
   ],
   "source": [
    "study = optuna.create_study(direction=\"maximize\", study_name='xgb optimization')\n",
    "study.optimize(Objective, timeout=6*60) #5 hours\n",
    "\n",
    "best = study.best_params\n",
    "print('The best parameters are ', best)"
   ]
  },
  {
   "cell_type": "code",
   "execution_count": null,
   "metadata": {},
   "outputs": [],
   "source": []
  }
 ],
 "metadata": {
  "interpreter": {
   "hash": "f0328b9ad2d19e2d019a5993aa83b306c7898874533c9685774e41d7ccadc38f"
  },
  "kernelspec": {
   "display_name": "Python 3.9.11 ('tab22': venv)",
   "language": "python",
   "name": "python3"
  },
  "language_info": {
   "codemirror_mode": {
    "name": "ipython",
    "version": 3
   },
   "file_extension": ".py",
   "mimetype": "text/x-python",
   "name": "python",
   "nbconvert_exporter": "python",
   "pygments_lexer": "ipython3",
   "version": "3.9.11"
  },
  "orig_nbformat": 4
 },
 "nbformat": 4,
 "nbformat_minor": 2
}
